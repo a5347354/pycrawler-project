{
 "cells": [
  {
   "cell_type": "code",
   "execution_count": 181,
   "metadata": {},
   "outputs": [],
   "source": [
    "import requests\n",
    "import time\n",
    "from bs4 import BeautifulSoup\n",
    "import json\n",
    "from tqdm import tqdm\n",
    "import pandas as pd\n",
    "import re"
   ]
  },
  {
   "cell_type": "code",
   "execution_count": 216,
   "metadata": {},
   "outputs": [
    {
     "name": "stdout",
     "output_type": "stream",
     "text": [
      "500\n"
     ]
    }
   ],
   "source": [
    "page = 500\n",
    "url = \"https://www.cupoy.com/MixNewsMongoAction.do?op=getTopMixNewsByBucketGroup&groupid=business_tw&startNewsID=1&len=\"+str(page)  #財經新聞\n",
    "resp = requests.get(url)\n",
    "resp.encoding = 'utf-8'\n",
    "# print(resp.text)  # 如有需要，列印出網頁原始碼\n",
    "j = json.loads(resp.text)\n",
    "items = j['items']\n",
    "print(len(items))"
   ]
  },
  {
   "cell_type": "code",
   "execution_count": 223,
   "metadata": {},
   "outputs": [
    {
     "name": "stderr",
     "output_type": "stream",
     "text": [
      "100%|██████████| 500/500 [00:00<00:00, 36517.30it/s]"
     ]
    },
    {
     "name": "stdout",
     "output_type": "stream",
     "text": [
      "498\n"
     ]
    },
    {
     "name": "stderr",
     "output_type": "stream",
     "text": [
      "\n"
     ]
    }
   ],
   "source": [
    "j = json.loads(resp.text)\n",
    "items = j['items']\n",
    "titles = []\n",
    "urls = []\n",
    "fb_shares_arr = [] \n",
    "fb_likes_arr = []\n",
    "gplus_likes_arr = []\n",
    "pin_counts_arr = []\n",
    "linkedin_shares_arr = []\n",
    "reddit_shares_arr = []\n",
    "nation_arr = []\n",
    "for i in tqdm(range(len(items))):\n",
    "    if items[i]['metrics'].__contains__('socialScorer'):\n",
    "        titles.append(items[i]['title']) \n",
    "    #     urls.append(items[i]['linkurl'])\n",
    "        nation_arr.append(items[i]['nationID'])\n",
    "        fb_shares_arr.append(items[i]['metrics']['socialScorer']['fb_shares'])\n",
    "        fb_likes_arr.append(items[i]['metrics']['socialScorer']['fb_likes'])\n",
    "        gplus_likes_arr.append(items[i]['metrics']['socialScorer']['gplus_likes'])\n",
    "        pin_counts_arr.append(items[i]['metrics']['socialScorer']['pin_counts'])\n",
    "        linkedin_shares_arr.append(items[i]['metrics']['socialScorer']['linkedin_shares'])\n",
    "        reddit_shares_arr.append(items[i]['metrics']['socialScorer']['reddit_shares'])\n",
    "\n",
    "print(len(nation_arr))"
   ]
  },
  {
   "cell_type": "markdown",
   "metadata": {},
   "source": [
    "### Get Publisher from title"
   ]
  },
  {
   "cell_type": "code",
   "execution_count": 224,
   "metadata": {},
   "outputs": [
    {
     "name": "stderr",
     "output_type": "stream",
     "text": [
      "100%|██████████| 498/498 [00:00<00:00, 79581.03it/s]\n"
     ]
    }
   ],
   "source": [
    "publishers = []\n",
    "for i in tqdm(range(len(titles))):\n",
    "    x = re.split(\"(\\||\\-|\\｜)\", titles[i])\n",
    "    length = len(x)\n",
    "    publish = x[length-1].strip()\n",
    "    if length == 1: \n",
    "        publish = \"\"\n",
    "    publishers.append(publish)"
   ]
  },
  {
   "cell_type": "markdown",
   "metadata": {},
   "source": [
    "### Remove Publisher from title"
   ]
  },
  {
   "cell_type": "code",
   "execution_count": 225,
   "metadata": {},
   "outputs": [
    {
     "name": "stderr",
     "output_type": "stream",
     "text": [
      "100%|██████████| 498/498 [00:00<00:00, 91492.05it/s]"
     ]
    },
    {
     "name": "stdout",
     "output_type": "stream",
     "text": [
      "498\n"
     ]
    },
    {
     "name": "stderr",
     "output_type": "stream",
     "text": [
      "\n"
     ]
    }
   ],
   "source": [
    "non_publisher_titles = []\n",
    "for i in tqdm(range(len(titles))):\n",
    "    x = re.split(\"(\\||\\-|\\｜)\", titles[i])\n",
    "    length = len(x)\n",
    "#   取0到x-1的字再組起來\n",
    "    title = \"\"\n",
    "    if length == 1:\n",
    "        title = x[0]\n",
    "    else:\n",
    "        j = 0\n",
    "        #   -2 => 移除 ['｜', '-', '|'] 以及出版者\n",
    "        for j in range(length-2):\n",
    "            title = title + x[j]\n",
    "    non_publisher_titles.append(title)\n",
    "print(len(non_publisher_titles))"
   ]
  },
  {
   "cell_type": "code",
   "execution_count": 227,
   "metadata": {},
   "outputs": [
    {
     "data": {
      "text/html": [
       "<div>\n",
       "<style scoped>\n",
       "    .dataframe tbody tr th:only-of-type {\n",
       "        vertical-align: middle;\n",
       "    }\n",
       "\n",
       "    .dataframe tbody tr th {\n",
       "        vertical-align: top;\n",
       "    }\n",
       "\n",
       "    .dataframe thead th {\n",
       "        text-align: right;\n",
       "    }\n",
       "</style>\n",
       "<table border=\"1\" class=\"dataframe\">\n",
       "  <thead>\n",
       "    <tr style=\"text-align: right;\">\n",
       "      <th></th>\n",
       "      <th>titles</th>\n",
       "      <th>publishers</th>\n",
       "      <th>fb_shares</th>\n",
       "      <th>fb_likes</th>\n",
       "      <th>gplus_likes</th>\n",
       "      <th>pin_counts</th>\n",
       "      <th>linkedin_shares</th>\n",
       "      <th>reddit_shares</th>\n",
       "    </tr>\n",
       "  </thead>\n",
       "  <tbody>\n",
       "    <tr>\n",
       "      <th>415</th>\n",
       "      <td>你今天多賺了幾小時？盤點時間損益表，奪回你最寶貴的時間！</td>\n",
       "      <td>經理人</td>\n",
       "      <td>4824</td>\n",
       "      <td>531</td>\n",
       "      <td>0</td>\n",
       "      <td>0</td>\n",
       "      <td>0</td>\n",
       "      <td>0</td>\n",
       "    </tr>\n",
       "    <tr>\n",
       "      <th>231</th>\n",
       "      <td>心理學家的職場觀察：公司裡的 4 種人，最累的是這種</td>\n",
       "      <td>經理人</td>\n",
       "      <td>4633</td>\n",
       "      <td>931</td>\n",
       "      <td>0</td>\n",
       "      <td>0</td>\n",
       "      <td>0</td>\n",
       "      <td>0</td>\n",
       "    </tr>\n",
       "    <tr>\n",
       "      <th>255</th>\n",
       "      <td>學經歷漂亮不一定好！能推動公司成長的人才，擁有什麼特質？</td>\n",
       "      <td>經理人</td>\n",
       "      <td>2886</td>\n",
       "      <td>0</td>\n",
       "      <td>0</td>\n",
       "      <td>0</td>\n",
       "      <td>0</td>\n",
       "      <td>0</td>\n",
       "    </tr>\n",
       "    <tr>\n",
       "      <th>422</th>\n",
       "      <td>【30 歲迷惘又何妨？】「人生哲學」電影片單，陪你度過灰濛濛的迷惘期</td>\n",
       "      <td>VidaOrange</td>\n",
       "      <td>2876</td>\n",
       "      <td>23</td>\n",
       "      <td>0</td>\n",
       "      <td>0</td>\n",
       "      <td>0</td>\n",
       "      <td>0</td>\n",
       "    </tr>\n",
       "    <tr>\n",
       "      <th>423</th>\n",
       "      <td>看完後馬上就能實行！科學證實能帶來幸福感的 12 種行為：學新語言、表達感謝</td>\n",
       "      <td>VidaOrange</td>\n",
       "      <td>2447</td>\n",
       "      <td>26</td>\n",
       "      <td>0</td>\n",
       "      <td>0</td>\n",
       "      <td>0</td>\n",
       "      <td>0</td>\n",
       "    </tr>\n",
       "    <tr>\n",
       "      <th>...</th>\n",
       "      <td>...</td>\n",
       "      <td>...</td>\n",
       "      <td>...</td>\n",
       "      <td>...</td>\n",
       "      <td>...</td>\n",
       "      <td>...</td>\n",
       "      <td>...</td>\n",
       "      <td>...</td>\n",
       "    </tr>\n",
       "    <tr>\n",
       "      <th>156</th>\n",
       "      <td>談「派對遲到效應」與快速融入陌生團體的技巧</td>\n",
       "      <td>大人學</td>\n",
       "      <td>0</td>\n",
       "      <td>0</td>\n",
       "      <td>0</td>\n",
       "      <td>0</td>\n",
       "      <td>0</td>\n",
       "      <td>0</td>\n",
       "    </tr>\n",
       "    <tr>\n",
       "      <th>155</th>\n",
       "      <td>因應武漢肺炎疫情，中小企業紓困貸款最快月底開跑</td>\n",
       "      <td>INSIDE</td>\n",
       "      <td>0</td>\n",
       "      <td>0</td>\n",
       "      <td>0</td>\n",
       "      <td>0</td>\n",
       "      <td>0</td>\n",
       "      <td>0</td>\n",
       "    </tr>\n",
       "    <tr>\n",
       "      <th>154</th>\n",
       "      <td>與臺積電搶市佔！傳三星獲高通 5G 新晶片合約</td>\n",
       "      <td>INSIDE</td>\n",
       "      <td>0</td>\n",
       "      <td>0</td>\n",
       "      <td>0</td>\n",
       "      <td>0</td>\n",
       "      <td>0</td>\n",
       "      <td>0</td>\n",
       "    </tr>\n",
       "    <tr>\n",
       "      <th>153</th>\n",
       "      <td>疫情預測、學者數據、學術成果、政策地圖，清華大學AMiner團隊上線一系列疫情相關AI大數據產品</td>\n",
       "      <td>機器之心</td>\n",
       "      <td>0</td>\n",
       "      <td>0</td>\n",
       "      <td>0</td>\n",
       "      <td>0</td>\n",
       "      <td>0</td>\n",
       "      <td>0</td>\n",
       "    </tr>\n",
       "    <tr>\n",
       "      <th>497</th>\n",
       "      <td>累積帶得走的職涯能力存摺</td>\n",
       "      <td>知 識 家</td>\n",
       "      <td>0</td>\n",
       "      <td>0</td>\n",
       "      <td>0</td>\n",
       "      <td>0</td>\n",
       "      <td>0</td>\n",
       "      <td>0</td>\n",
       "    </tr>\n",
       "  </tbody>\n",
       "</table>\n",
       "<p>461 rows × 8 columns</p>\n",
       "</div>"
      ],
      "text/plain": [
       "                                                titles  publishers  fb_shares  \\\n",
       "415                      你今天多賺了幾小時？盤點時間損益表，奪回你最寶貴的時間！          經理人       4824   \n",
       "231                        心理學家的職場觀察：公司裡的 4 種人，最累的是這種          經理人       4633   \n",
       "255                      學經歷漂亮不一定好！能推動公司成長的人才，擁有什麼特質？          經理人       2886   \n",
       "422                【30 歲迷惘又何妨？】「人生哲學」電影片單，陪你度過灰濛濛的迷惘期   VidaOrange       2876   \n",
       "423            看完後馬上就能實行！科學證實能帶來幸福感的 12 種行為：學新語言、表達感謝   VidaOrange       2447   \n",
       "..                                                 ...         ...        ...   \n",
       "156                             談「派對遲到效應」與快速融入陌生團體的技巧          大人學          0   \n",
       "155                           因應武漢肺炎疫情，中小企業紓困貸款最快月底開跑       INSIDE          0   \n",
       "154                           與臺積電搶市佔！傳三星獲高通 5G 新晶片合約       INSIDE          0   \n",
       "153  疫情預測、學者數據、學術成果、政策地圖，清華大學AMiner團隊上線一系列疫情相關AI大數據產品         機器之心          0   \n",
       "497                                      累積帶得走的職涯能力存摺        知 識 家          0   \n",
       "\n",
       "     fb_likes  gplus_likes  pin_counts  linkedin_shares  reddit_shares  \n",
       "415       531            0           0                0              0  \n",
       "231       931            0           0                0              0  \n",
       "255         0            0           0                0              0  \n",
       "422        23            0           0                0              0  \n",
       "423        26            0           0                0              0  \n",
       "..        ...          ...         ...              ...            ...  \n",
       "156         0            0           0                0              0  \n",
       "155         0            0           0                0              0  \n",
       "154         0            0           0                0              0  \n",
       "153         0            0           0                0              0  \n",
       "497         0            0           0                0              0  \n",
       "\n",
       "[461 rows x 8 columns]"
      ]
     },
     "execution_count": 227,
     "metadata": {},
     "output_type": "execute_result"
    }
   ],
   "source": [
    "news_dict = {\n",
    "    \"titles\": non_publisher_titles,\n",
    "#     \"urls\": urls,\n",
    "    \"publishers\":publishers,\n",
    "    \"fb_shares\":fb_shares_arr,\n",
    "    \"fb_likes\": fb_likes_arr,\n",
    "    \"gplus_likes\":gplus_likes_arr,\n",
    "    \"pin_counts\":pin_counts_arr,\n",
    "    \"linkedin_shares\":linkedin_shares_arr,\n",
    "    \"reddit_shares\":reddit_shares_arr\n",
    "}\n",
    "df = pd.DataFrame(news_dict)\n",
    "\n",
    "#  Remove Pusblisher is empty\n",
    "df = df[df['publishers']!=\"\"]\n",
    "df.sort_values(by=['fb_shares'], inplace=True, ascending=False)\n",
    "df"
   ]
  },
  {
   "cell_type": "markdown",
   "metadata": {},
   "source": [
    "### 計算TFIDF詞頻\n",
    "1. 將所有需計算的組成字串\n",
    "2. jieba進行分詞\n",
    "3. 使用jieba進行tfidf計算"
   ]
  },
  {
   "cell_type": "code",
   "execution_count": 231,
   "metadata": {},
   "outputs": [
    {
     "name": "stderr",
     "output_type": "stream",
     "text": [
      "Building prefix dict from /Users/fan/Documents/Github/pycrawler-project/dict.txt.big ...\n",
      "Loading model from cache /var/folders/32/4nbdc94x4w71n8cppyr49lz00000gn/T/jieba.u90c238c6edb188e7c4dcfaeaef1126cb.cache\n",
      "Loading model cost 2.668 seconds.\n",
      "Prefix dict has been built successfully.\n"
     ]
    },
    {
     "data": {
      "text/plain": [
       "['疫情',\n",
       " '武漢',\n",
       " '肺炎',\n",
       " '投資',\n",
       " '員工',\n",
       " '什麼',\n",
       " '臺灣',\n",
       " '中國',\n",
       " '職場',\n",
       " '未來',\n",
       " '趨勢',\n",
       " '工作',\n",
       " '觀點',\n",
       " '美國',\n",
       " '衝擊',\n",
       " '2020',\n",
       " '財訊',\n",
       " '防疫',\n",
       " '...',\n",
       " '企業',\n",
       " '新冠',\n",
       " '不會',\n",
       " '成為',\n",
       " 'Google',\n",
       " '怎麼',\n",
       " '時代',\n",
       " '商業',\n",
       " '20',\n",
       " '老闆',\n",
       " '10',\n",
       " '影響',\n",
       " '成功',\n",
       " '學習',\n",
       " '媽媽',\n",
       " '離職',\n",
       " '數位',\n",
       " '確診',\n",
       " 'Anue',\n",
       " '主管',\n",
       " '掌握']"
      ]
     },
     "execution_count": 231,
     "metadata": {},
     "output_type": "execute_result"
    }
   ],
   "source": [
    "from tqdm import tqdm\n",
    "import jieba\n",
    "import jieba.analyse\n",
    "jieba.set_dictionary('dict.txt.big')\n",
    "\n",
    "def caculate_TFIDF(datalist):\n",
    "    # 將所有需計算的組成字串\n",
    "    word_string = \"\"\n",
    "    for data in datalist:\n",
    "        word_string = word_string + \"，\" + data\n",
    "        \n",
    "    #  jieba進行分詞\n",
    "    cut_words = jieba.cut(word_string, cut_all=False)\n",
    "    words = list(cut_words)\n",
    "    \n",
    "   #使用jieba進行tfidf計算\n",
    "    #  tfidf = jieba.analyse.extract_tags(word_string, 10)\n",
    "    tfidf = jieba.analyse.extract_tags(word_string, topK=40, withWeight=False, allowPOS=())\n",
    "    return tfidf\n",
    "\n",
    "\n",
    "\n",
    "caculate_TFIDF(df['titles'])"
   ]
  },
  {
   "cell_type": "code",
   "execution_count": null,
   "metadata": {},
   "outputs": [],
   "source": []
  },
  {
   "cell_type": "code",
   "execution_count": 116,
   "metadata": {},
   "outputs": [
    {
     "ename": "ValueError",
     "evalue": "hist method requires numerical columns, nothing to plot.",
     "output_type": "error",
     "traceback": [
      "\u001b[0;31m---------------------------------------------------------------------------\u001b[0m",
      "\u001b[0;31mValueError\u001b[0m                                Traceback (most recent call last)",
      "\u001b[0;32m<ipython-input-116-5971d8fc8d7d>\u001b[0m in \u001b[0;36m<module>\u001b[0;34m\u001b[0m\n\u001b[0;32m----> 1\u001b[0;31m \u001b[0mdf\u001b[0m\u001b[0;34m.\u001b[0m\u001b[0mhist\u001b[0m\u001b[0;34m(\u001b[0m\u001b[0mcolumn\u001b[0m\u001b[0;34m=\u001b[0m\u001b[0;34m'publishers'\u001b[0m\u001b[0;34m)\u001b[0m\u001b[0;34m\u001b[0m\u001b[0;34m\u001b[0m\u001b[0m\n\u001b[0m",
      "\u001b[0;32m~/Documents/Github/100Day-pycrawler-Marathon/env_jupyter/lib/python3.7/site-packages/pandas/plotting/_core.py\u001b[0m in \u001b[0;36mhist_frame\u001b[0;34m(data, column, by, grid, xlabelsize, xrot, ylabelsize, yrot, ax, sharex, sharey, figsize, layout, bins, **kwds)\u001b[0m\n\u001b[1;32m    197\u001b[0m         \u001b[0mlayout\u001b[0m\u001b[0;34m=\u001b[0m\u001b[0mlayout\u001b[0m\u001b[0;34m,\u001b[0m\u001b[0;34m\u001b[0m\u001b[0;34m\u001b[0m\u001b[0m\n\u001b[1;32m    198\u001b[0m         \u001b[0mbins\u001b[0m\u001b[0;34m=\u001b[0m\u001b[0mbins\u001b[0m\u001b[0;34m,\u001b[0m\u001b[0;34m\u001b[0m\u001b[0;34m\u001b[0m\u001b[0m\n\u001b[0;32m--> 199\u001b[0;31m         \u001b[0;34m**\u001b[0m\u001b[0mkwds\u001b[0m\u001b[0;34m\u001b[0m\u001b[0;34m\u001b[0m\u001b[0m\n\u001b[0m\u001b[1;32m    200\u001b[0m     )\n\u001b[1;32m    201\u001b[0m \u001b[0;34m\u001b[0m\u001b[0m\n",
      "\u001b[0;32m~/Documents/Github/100Day-pycrawler-Marathon/env_jupyter/lib/python3.7/site-packages/pandas/plotting/_matplotlib/hist.py\u001b[0m in \u001b[0;36mhist_frame\u001b[0;34m(data, column, by, grid, xlabelsize, xrot, ylabelsize, yrot, ax, sharex, sharey, figsize, layout, bins, **kwds)\u001b[0m\n\u001b[1;32m    395\u001b[0m \u001b[0;34m\u001b[0m\u001b[0m\n\u001b[1;32m    396\u001b[0m     \u001b[0;32mif\u001b[0m \u001b[0mnaxes\u001b[0m \u001b[0;34m==\u001b[0m \u001b[0;36m0\u001b[0m\u001b[0;34m:\u001b[0m\u001b[0;34m\u001b[0m\u001b[0;34m\u001b[0m\u001b[0m\n\u001b[0;32m--> 397\u001b[0;31m         \u001b[0;32mraise\u001b[0m \u001b[0mValueError\u001b[0m\u001b[0;34m(\u001b[0m\u001b[0;34m\"hist method requires numerical columns, \"\u001b[0m \u001b[0;34m\"nothing to plot.\"\u001b[0m\u001b[0;34m)\u001b[0m\u001b[0;34m\u001b[0m\u001b[0;34m\u001b[0m\u001b[0m\n\u001b[0m\u001b[1;32m    398\u001b[0m \u001b[0;34m\u001b[0m\u001b[0m\n\u001b[1;32m    399\u001b[0m     fig, axes = _subplots(\n",
      "\u001b[0;31mValueError\u001b[0m: hist method requires numerical columns, nothing to plot."
     ]
    }
   ],
   "source": [
    "df.hist(column='publishers')"
   ]
  }
 ],
 "metadata": {
  "kernelspec": {
   "display_name": "env_jupyter",
   "language": "python",
   "name": "env_jupyter"
  },
  "language_info": {
   "codemirror_mode": {
    "name": "ipython",
    "version": 3
   },
   "file_extension": ".py",
   "mimetype": "text/x-python",
   "name": "python",
   "nbconvert_exporter": "python",
   "pygments_lexer": "ipython3",
   "version": "3.7.5"
  }
 },
 "nbformat": 4,
 "nbformat_minor": 2
}
