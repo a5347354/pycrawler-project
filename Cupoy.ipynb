{
 "cells": [
  {
   "cell_type": "code",
   "execution_count": 22,
   "metadata": {},
   "outputs": [],
   "source": [
    "import requests\n",
    "import time\n",
    "from bs4 import BeautifulSoup\n",
    "from selenium import webdriver\n",
    "from selenium.webdriver.common.keys import Keys"
   ]
  },
  {
   "cell_type": "code",
   "execution_count": 23,
   "metadata": {},
   "outputs": [],
   "source": [
    "url = \"https://www.cupoy.com/newsfeed/topicgrp/business_tw\"  #財經新聞"
   ]
  },
  {
   "cell_type": "code",
   "execution_count": 25,
   "metadata": {},
   "outputs": [
    {
     "name": "stdout",
     "output_type": "stream",
     "text": [
      "[[], [], [<h6 class=\"sc-erNlkL sc-ekulBa hDLssh\">為何「衛生紙與口罩原料相同」等謠言會被瘋傳？最新調查：近半臺灣人不會查證網路消息-風傳媒</h6>, <h6 class=\"sc-erNlkL sc-ekulBa hDLssh\">近10年矽谷快速發展的公司，都用這套成長駭客思維！3個關鍵訣竅引爆用戶數 | SmartM 新網路科技</h6>, <h6 class=\"sc-erNlkL sc-ekulBa hDLssh\">勇敢去嘗試，不要只看見困境，要看見機會！ | 知 識 家</h6>, <h6 class=\"sc-erNlkL sc-ekulBa hDLssh\">武漢肺炎疫情下的奇景：2億人線上開工、遠端辦公，中國「宅家工作」的14天｜數位時代</h6>, <h6 class=\"sc-erNlkL sc-ekulBa hDLssh\">VISA臺灣高層換血！麻少華卸任，新任總經理趙麗芳是誰？｜數位時代</h6>, <h6 class=\"sc-erNlkL sc-ekulBa hDLssh\">機器人理財為何臺灣叫好不叫座？上線兩年規模僅7億元｜數位時代</h6>, <h6 class=\"sc-erNlkL sc-ekulBa hDLssh\">迪卡儂就是他家的！尹衍樑盟友、全球最神祕的家族企業，如何累積1兆資產？-風傳媒</h6>, <h6 class=\"sc-erNlkL sc-ekulBa hDLssh\">結局收視率破紀錄！「愛的迫降」孫藝珍：「能夠與玄彬對戲的我，比誰都幸福！」-風傳媒</h6>, <h6 class=\"sc-erNlkL sc-ekulBa hDLssh\">棉條崛起！私密商機如何搭上新時代女性潮流？ - 動腦Brain.com.tw｜行銷．廣告．傳播．創意數位平台</h6>, <h6 class=\"sc-erNlkL sc-ekulBa hDLssh\">沒被分類會發生什麼？泰國可口可樂讓垃圾親自告訴你 - 動腦Brain.com.tw｜行銷．廣告．傳播．創意數位平臺</h6>, <h6 class=\"sc-erNlkL sc-ekulBa hDLssh\">雄獅（2731）持續開拓新商機 - StockFeel 股感</h6>, <h6 class=\"sc-erNlkL sc-ekulBa hDLssh\">歹戲拖棚的英國脫歐，接下來的劇本怎麼演？ - The News Lens 關鍵評論網</h6>, <h6 class=\"sc-erNlkL sc-ekulBa hDLssh\">新冠肺炎首例死亡！臺灣真要進入「社區感染」了嗎？陳時中：這三類人擴大監控-風傳媒</h6>, <h6 class=\"sc-erNlkL sc-ekulBa hDLssh\">裁員數千人、壓低材料成本、限縮高級車生產規模，Mercedes-Benz是否真的即將殞落？-風傳媒</h6>], [<h6 class=\"sc-erNlkL sc-ekulBa hDLssh\">歹戲拖棚的英國脫歐，接下來的劇本怎麼演？ - The News Lens 關鍵評論網</h6>, <h6 class=\"sc-erNlkL sc-ekulBa hDLssh\">新冠肺炎首例死亡！臺灣真要進入「社區感染」了嗎？陳時中：這三類人擴大監控-風傳媒</h6>, <h6 class=\"sc-erNlkL sc-ekulBa hDLssh\">裁員數千人、壓低材料成本、限縮高級車生產規模，Mercedes-Benz是否真的即將殞落？-風傳媒</h6>, <h6 class=\"sc-erNlkL sc-ekulBa hDLssh\">性愛機器人應該照著性侵犯、戀童癖的「性趣」設計嗎？專家搖頭：讓變態有機會練習？-風傳媒</h6>, <h6 class=\"sc-erNlkL sc-ekulBa hDLssh\">武漢肺炎疫情升溫耳溫槍賣光光！食藥署提醒：量耳溫沒「戴套」恐增傳染風險-風傳媒</h6>, <h6 class=\"sc-erNlkL sc-ekulBa hDLssh\">有錢人不會告訴你的殘酷真相：這五個窮人才有的消費觀念，才是你一輩子都翻不了身的關鍵！-風傳媒</h6>, <h6 class=\"sc-erNlkL sc-ekulBa hDLssh\">上班一週慘被資遣…「職場魯蛇」如何在四年內翻身軟體工程師？他：給一年後自己寫份履歷吧-風傳媒</h6>], [<h6 class=\"sc-erNlkL sc-ekulBa hDLssh\">先從小衛星開始！臺灣打入國際太空產業鏈的關鍵在「飛行履歷」 | TechOrange</h6>, <h6 class=\"sc-erNlkL sc-ekulBa hDLssh\">中國用毛式社會控制運動對抗疫情 - 紐約時報中文網</h6>, <h6 class=\"sc-erNlkL sc-ekulBa hDLssh\">【專案企劃】PM必學！用甘特圖來做專案管理 ｜ MeetHub</h6>, <h6 class=\"sc-erNlkL sc-ekulBa hDLssh\">顧客生氣時先別急著低頭，鬆下幸之助：企業該做顧客的「忠臣」而不是「奴隸」</h6>, <h6 class=\"sc-erNlkL sc-ekulBa hDLssh\">鴻海鄭州廠非在地員工返廠 隔離7天再上班-觀點新聞-商周財富網</h6>, <h6 class=\"sc-erNlkL sc-ekulBa hDLssh\">香港財政司司長：下年度財政赤字恐為歷年最高-鉅亨網-觀點新聞-商周財富網</h6>, <h6 class=\"sc-erNlkL sc-ekulBa hDLssh\">疫情肆虐紙鈔也要隔離消毒！中銀前行長：或加速「數位人民幣」發行 - 區塊客</h6>, <h6 class=\"sc-erNlkL sc-ekulBa hDLssh\">【狂人日記】有一句話叫做：早上大跌要幹啥？2 月 17 日行情分析 - 區塊客</h6>, <h6 class=\"sc-erNlkL sc-ekulBa hDLssh\">isCar - 近40年後再次相見，Volkswagen釋出Golf GTD正面圖片</h6>, <h6 class=\"sc-erNlkL sc-ekulBa hDLssh\">芝商所｜CME 比特幣期貨今重新開盤，可能成為BTC再度漲回 10,000 美元關鍵？ | 動區動趨-最具影響力的區塊鏈媒體 (比特幣, 虛擬貨幣)</h6>, <h6 class=\"sc-erNlkL sc-ekulBa hDLssh\">AI醫療運用之倫理挑戰</h6>, <h6 class=\"sc-erNlkL sc-ekulBa hDLssh\">把第一桶金當兒子，30年經驗投資人：養他8年，他就養你一輩子-財經好讀-臺股-商周財富網</h6>, <h6 class=\"sc-erNlkL sc-ekulBa hDLssh\">「苑裡掀海風」的進化旅程：帶動返鄉青年與在地志工參與，打造出經典小鎮 - The News Lens 關鍵評論網</h6>, <h6 class=\"sc-erNlkL sc-ekulBa hDLssh\">民航業寒冬》兩岸港澳航班取消皆逾7成　旅客量掉逾8成-風傳媒</h6>, <h6 class=\"sc-erNlkL sc-ekulBa hDLssh\">遠傳助攻臺電，24萬智慧電表通訊模組啟動建置 | T客邦</h6>], [<h6 class=\"sc-erNlkL sc-ekulBa hDLssh\">「苑裡掀海風」的進化旅程：帶動返鄉青年與在地志工參與，打造出經典小鎮 - The News Lens 關鍵評論網</h6>, <h6 class=\"sc-erNlkL sc-ekulBa hDLssh\">民航業寒冬》兩岸港澳航班取消皆逾7成　旅客量掉逾8成-風傳媒</h6>, <h6 class=\"sc-erNlkL sc-ekulBa hDLssh\">遠傳助攻臺電，24萬智慧電表通訊模組啟動建置 | T客邦</h6>, <h6 class=\"sc-erNlkL sc-ekulBa hDLssh\">這裡有批建案好便宜！疫情壓垮中國房市，知名建商恆大推案「全國75折」急自救-風傳媒</h6>, <h6 class=\"sc-erNlkL sc-ekulBa hDLssh\">雙手叉腰的肢體語言：拇指向前、向後，代表的意思不一樣 - The News Lens 關鍵評論網</h6>, <h6 class=\"sc-erNlkL sc-ekulBa hDLssh\">「原本要練一年的事，海上一天就學會！」為什麼她認為，打工渡假不如去跑船？-風傳媒</h6>, <h6 class=\"sc-erNlkL sc-ekulBa hDLssh\">文曄擬發放現金股利約2.78元 創4年來新高-風傳媒</h6>, <h6 class=\"sc-erNlkL sc-ekulBa hDLssh\">評估企業體質十大要點：如何知道投資的公司是不是「燒錢慘業」？ - The News Lens 關鍵評論網</h6>, <h6 class=\"sc-erNlkL sc-ekulBa hDLssh\">簡單的投資組合就是吃熱炒！分散風險之外還能什麼都來一點！-風傳媒</h6>, <h6 class=\"sc-erNlkL sc-ekulBa hDLssh\">4433法則 挑出金雞母 | 基金天地 | 理財 | 經濟日報</h6>, <h6 class=\"sc-erNlkL sc-ekulBa hDLssh\">危機入市 四大趨勢帶你賺 | 基金天地 | 理財 | 經濟日報</h6>], [<h6 class=\"sc-erNlkL sc-ekulBa hDLssh\">簡單的投資組合就是吃熱炒！分散風險之外還能什麼都來一點！-風傳媒</h6>, <h6 class=\"sc-erNlkL sc-ekulBa hDLssh\">4433法則 挑出金雞母 | 基金天地 | 理財 | 經濟日報</h6>, <h6 class=\"sc-erNlkL sc-ekulBa hDLssh\">危機入市 四大趨勢帶你賺 | 基金天地 | 理財 | 經濟日報</h6>], [<h6 class=\"sc-erNlkL sc-ekulBa hDLssh\">簡單的投資組合就是吃熱炒！分散風險之外還能什麼都來一點！-風傳媒</h6>, <h6 class=\"sc-erNlkL sc-ekulBa hDLssh\">4433法則 挑出金雞母 | 基金天地 | 理財 | 經濟日報</h6>, <h6 class=\"sc-erNlkL sc-ekulBa hDLssh\">危機入市 四大趨勢帶你賺 | 基金天地 | 理財 | 經濟日報</h6>, <h6 class=\"sc-erNlkL sc-ekulBa hDLssh\">每月千元存股夯  聚沙成塔小資族愛 | 個人理財 | 理財 | 經濟日報</h6>, <h6 class=\"sc-erNlkL sc-ekulBa hDLssh\">住院醫療險 保障從新從優 | 銀行保險 | 理財 | 經濟日報</h6>, <h6 class=\"sc-erNlkL sc-ekulBa hDLssh\">專家教你保／房貸壽險 轉移還款風險 | 銀行保險 | 理財 | 經濟日報</h6>, <h6 class=\"sc-erNlkL sc-ekulBa hDLssh\">退休金算盤／勞退自提…養胖退休金 | 個人理財 | 理財 | 經濟日報</h6>, <h6 class=\"sc-erNlkL sc-ekulBa hDLssh\">銀行搶紅包 推高利存款 | 銀行保險 | 理財 | 經濟日報</h6>, <h6 class=\"sc-erNlkL sc-ekulBa hDLssh\">手機保險夯 新舊都能保 | 銀行保險 | 理財 | 經濟日報</h6>, <h6 class=\"sc-erNlkL sc-ekulBa hDLssh\">行動裝置險...不賠事項 要先看清楚 | 銀行保險 | 理財 | 經濟日報</h6>, <h6 class=\"sc-erNlkL sc-ekulBa hDLssh\">專家教你保 ／疊積木式投保 補足保障缺口 | 銀行保險 | 理財 | 經濟日報</h6>, <h6 class=\"sc-erNlkL sc-ekulBa hDLssh\">「鑽石公主號」乘客未來返國後，還要隔離觀察14天嗎？美加港韓都說要-風傳媒</h6>, <h6 class=\"sc-erNlkL sc-ekulBa hDLssh\">Salesforce 提倡醫療業界儘快棄用 CD 存放數據 - UNWIRE.PRO</h6>, <h6 class=\"sc-erNlkL sc-ekulBa hDLssh\">深度解讀：新加坡 MAS 將增發3張支付牌照，幣安飛速遞交申請的背後戰略意義 | 動區動趨-最具影響力的區塊鏈媒體 (比特幣, 虛擬貨幣)</h6>], [<h6 class=\"sc-erNlkL sc-ekulBa hDLssh\">「可不可」，你也剛好喜歡我?聯手Uber Eats及電影　推出限定告白杯！ | 可不可熟成紅茶、uber eat、 可不可以，你也剛好喜歡我、情人節 | 品牌新聞 | 妞新聞 niusnews</h6>, <h6 class=\"sc-erNlkL sc-ekulBa hDLssh\">【蘇珊米勒】2/17~2/23 週運勢：牡羊、獅子、射手｜女人迷 Womany</h6>, <h6 class=\"sc-erNlkL sc-ekulBa hDLssh\">股價兩個月上漲80%！900美元的特斯拉(Tesla)，是怎麼估出來的？ - PressPlay 訂閱學習，時刻精進</h6>, <h6 class=\"sc-erNlkL sc-ekulBa hDLssh\">每一次跌到2%都是抄底時機？美債市場正迎資金狂潮 | Anue鉅亨 - 債券</h6>, <h6 class=\"sc-erNlkL sc-ekulBa hDLssh\">抵禦經濟衝擊 港、星財政赤字料創新高 中國擬進一步減稅 | Anue鉅亨 - 國際政經</h6>, <h6 class=\"sc-erNlkL sc-ekulBa hDLssh\">曾提成立大型創投 郭台銘上月質押43.6萬張鴻海持股 市值約400億元 | Anue鉅亨 - 台股新聞</h6>, <h6 class=\"sc-erNlkL sc-ekulBa hDLssh\">「事前萬事 OK，決定後卻意見一堆」不被職涯旅伴雷到，你們之間要有３種「一致」： - 談工作 - 部落格 - Cheers快樂工作人</h6>, <h6 class=\"sc-erNlkL sc-ekulBa hDLssh\">「好想知道，當年的炒房客，現在都怎麼樣了？」房產建商這樣說...-胡偉良的房市觀察-房地產-商周財富網</h6>, <h6 class=\"sc-erNlkL sc-ekulBa hDLssh\">〈觀察〉記憶體業今年迎好年 臺廠新製程技術將問世 | Anue鉅亨 - 鉅亨新視界</h6>], [<h6 class=\"sc-erNlkL sc-ekulBa hDLssh\">「可不可」，你也剛好喜歡我?聯手Uber Eats及電影　推出限定告白杯！ | 可不可熟成紅茶、uber eat、 可不可以，你也剛好喜歡我、情人節 | 品牌新聞 | 妞新聞 niusnews</h6>, <h6 class=\"sc-erNlkL sc-ekulBa hDLssh\">【蘇珊米勒】2/17~2/23 週運勢：牡羊、獅子、射手｜女人迷 Womany</h6>, <h6 class=\"sc-erNlkL sc-ekulBa hDLssh\">股價兩個月上漲80%！900美元的特斯拉(Tesla)，是怎麼估出來的？ - PressPlay 訂閱學習，時刻精進</h6>, <h6 class=\"sc-erNlkL sc-ekulBa hDLssh\">每一次跌到2%都是抄底時機？美債市場正迎資金狂潮 | Anue鉅亨 - 債券</h6>, <h6 class=\"sc-erNlkL sc-ekulBa hDLssh\">抵禦經濟衝擊 港、星財政赤字料創新高 中國擬進一步減稅 | Anue鉅亨 - 國際政經</h6>, <h6 class=\"sc-erNlkL sc-ekulBa hDLssh\">曾提成立大型創投 郭台銘上月質押43.6萬張鴻海持股 市值約400億元 | Anue鉅亨 - 台股新聞</h6>, <h6 class=\"sc-erNlkL sc-ekulBa hDLssh\">「事前萬事 OK，決定後卻意見一堆」不被職涯旅伴雷到，你們之間要有３種「一致」： - 談工作 - 部落格 - Cheers快樂工作人</h6>, <h6 class=\"sc-erNlkL sc-ekulBa hDLssh\">「好想知道，當年的炒房客，現在都怎麼樣了？」房產建商這樣說...-胡偉良的房市觀察-房地產-商周財富網</h6>, <h6 class=\"sc-erNlkL sc-ekulBa hDLssh\">〈觀察〉記憶體業今年迎好年 臺廠新製程技術將問世 | Anue鉅亨 - 鉅亨新視界</h6>], [<h6 class=\"sc-erNlkL sc-ekulBa hDLssh\">「可不可」，你也剛好喜歡我?聯手Uber Eats及電影　推出限定告白杯！ | 可不可熟成紅茶、uber eat、 可不可以，你也剛好喜歡我、情人節 | 品牌新聞 | 妞新聞 niusnews</h6>, <h6 class=\"sc-erNlkL sc-ekulBa hDLssh\">【蘇珊米勒】2/17~2/23 週運勢：牡羊、獅子、射手｜女人迷 Womany</h6>, <h6 class=\"sc-erNlkL sc-ekulBa hDLssh\">股價兩個月上漲80%！900美元的特斯拉(Tesla)，是怎麼估出來的？ - PressPlay 訂閱學習，時刻精進</h6>, <h6 class=\"sc-erNlkL sc-ekulBa hDLssh\">每一次跌到2%都是抄底時機？美債市場正迎資金狂潮 | Anue鉅亨 - 債券</h6>, <h6 class=\"sc-erNlkL sc-ekulBa hDLssh\">抵禦經濟衝擊 港、星財政赤字料創新高 中國擬進一步減稅 | Anue鉅亨 - 國際政經</h6>, <h6 class=\"sc-erNlkL sc-ekulBa hDLssh\">曾提成立大型創投 郭台銘上月質押43.6萬張鴻海持股 市值約400億元 | Anue鉅亨 - 台股新聞</h6>, <h6 class=\"sc-erNlkL sc-ekulBa hDLssh\">「事前萬事 OK，決定後卻意見一堆」不被職涯旅伴雷到，你們之間要有３種「一致」： - 談工作 - 部落格 - Cheers快樂工作人</h6>, <h6 class=\"sc-erNlkL sc-ekulBa hDLssh\">「好想知道，當年的炒房客，現在都怎麼樣了？」房產建商這樣說...-胡偉良的房市觀察-房地產-商周財富網</h6>, <h6 class=\"sc-erNlkL sc-ekulBa hDLssh\">〈觀察〉記憶體業今年迎好年 臺廠新製程技術將問世 | Anue鉅亨 - 鉅亨新視界</h6>, <h6 class=\"sc-erNlkL sc-ekulBa hDLssh\">就是故意要報錯時間！提昇工作效率的心機時鐘：Rubato Clock | 羣眾觀點</h6>, <h6 class=\"sc-erNlkL sc-ekulBa hDLssh\">新冠肺炎疫情之下復工，需做好哪些自我防護與集體衛生？ – 媽媽經｜專屬於媽媽的網站</h6>, <h6 class=\"sc-erNlkL sc-ekulBa hDLssh\">武漢肺炎疫情更新：中國新增病例2048例 累計數破7萬 | Anue鉅亨 - 大陸政經</h6>, <h6 class=\"sc-erNlkL sc-ekulBa hDLssh\">【MICA RESEARCH】槓桿過熱導致交易所 USDT 出現缺貨問題，可能是泡沫前兆 - 區塊客</h6>, <h6 class=\"sc-erNlkL sc-ekulBa hDLssh\">蘋果公司檢查員工包包 法院：等待時間需付薪水 - Yahoo奇摩新聞</h6>, <h6 class=\"sc-erNlkL sc-ekulBa hDLssh\">面試的３個重點話術，錄取率百分百 - 高效工作 - 讀書會 - Cheers快樂工作人</h6>], [<h6 class=\"sc-erNlkL sc-ekulBa hDLssh\">逐筆交易3月上路，你還沒搞懂？財經專家1張圖解釋-馬哈理財遊樂園-臺股-商周財富網</h6>, <h6 class=\"sc-erNlkL sc-ekulBa hDLssh\">腳踝骨折不用住院，保險賠得少？專家：不一定，這險種可賠上萬元！-財富網編輯嚴選-保險-商周財富網</h6>, <h6 class=\"sc-erNlkL sc-ekulBa hDLssh\">Android之父安迪．魯賓創業失利…手機品牌Essential不敵市場考驗，正式收攤-財經新報-觀點新聞-商周財富網</h6>, <h6 class=\"sc-erNlkL sc-ekulBa hDLssh\">【穿越時空租到你】宋朝政府打房來真的：官員限購第二套房子、租屋族天氣冷還能減租！ | BuzzOrange</h6>, <h6 class=\"sc-erNlkL sc-ekulBa hDLssh\">美國真的需要那麼多外國人才嗎？從供不應求、爭議不斷的 H-1B 簽證說起 ｜ Jason Huang、Tao Lin／讀者投書 ｜ 換日線 Crossing</h6>, <h6 class=\"sc-erNlkL sc-ekulBa hDLssh\">世代會改變，不變的是夢想──留英 17 年，見證臺灣人在倫敦立足並發光 ｜ 2020 倫敦：後脫歐時代 ｜ 換日線 Crossing</h6>, <h6 class=\"sc-erNlkL sc-ekulBa hDLssh\">績效好，卻沒被升遷加薪？原因不脫這 3 件事，看看你是哪一種 | 經理人</h6>, <h6 class=\"sc-erNlkL sc-ekulBa hDLssh\">又抓到假新聞！高雄警方查出女網友炫燿武漢偷渡返臺是假帳號 - INSIDE</h6>, <h6 class=\"sc-erNlkL sc-ekulBa hDLssh\">臺灣太空產業想進軍國際，「飛行履歷」將成關鍵！ - INSIDE</h6>, <h6 class=\"sc-erNlkL sc-ekulBa hDLssh\">通了！馬斯克的無聊公司打穿賭城第一條地下隧道 - INSIDE</h6>, <h6 class=\"sc-erNlkL sc-ekulBa hDLssh\">未來的競爭對手和你想的不一樣！企業要存活，先問自己這3個問題 | 經理人</h6>, <h6 class=\"sc-erNlkL sc-ekulBa hDLssh\">又一新創暴起暴落：美國問答 HQ Trivia 賣不掉自己宣佈倒閉 - INSIDE</h6>, <h6 class=\"sc-erNlkL sc-ekulBa hDLssh\">防竊聽？來看芝加哥大學發明的超音波手鐲 - INSIDE</h6>], [<h6 class=\"sc-erNlkL sc-ekulBa hDLssh\">逐筆交易3月上路，你還沒搞懂？財經專家1張圖解釋-馬哈理財遊樂園-臺股-商周財富網</h6>, <h6 class=\"sc-erNlkL sc-ekulBa hDLssh\">腳踝骨折不用住院，保險賠得少？專家：不一定，這險種可賠上萬元！-財富網編輯嚴選-保險-商周財富網</h6>, <h6 class=\"sc-erNlkL sc-ekulBa hDLssh\">Android之父安迪．魯賓創業失利…手機品牌Essential不敵市場考驗，正式收攤-財經新報-觀點新聞-商周財富網</h6>, <h6 class=\"sc-erNlkL sc-ekulBa hDLssh\">【穿越時空租到你】宋朝政府打房來真的：官員限購第二套房子、租屋族天氣冷還能減租！ | BuzzOrange</h6>, <h6 class=\"sc-erNlkL sc-ekulBa hDLssh\">美國真的需要那麼多外國人才嗎？從供不應求、爭議不斷的 H-1B 簽證說起 ｜ Jason Huang、Tao Lin／讀者投書 ｜ 換日線 Crossing</h6>, <h6 class=\"sc-erNlkL sc-ekulBa hDLssh\">世代會改變，不變的是夢想──留英 17 年，見證臺灣人在倫敦立足並發光 ｜ 2020 倫敦：後脫歐時代 ｜ 換日線 Crossing</h6>, <h6 class=\"sc-erNlkL sc-ekulBa hDLssh\">績效好，卻沒被升遷加薪？原因不脫這 3 件事，看看你是哪一種 | 經理人</h6>, <h6 class=\"sc-erNlkL sc-ekulBa hDLssh\">又抓到假新聞！高雄警方查出女網友炫燿武漢偷渡返臺是假帳號 - INSIDE</h6>, <h6 class=\"sc-erNlkL sc-ekulBa hDLssh\">臺灣太空產業想進軍國際，「飛行履歷」將成關鍵！ - INSIDE</h6>, <h6 class=\"sc-erNlkL sc-ekulBa hDLssh\">通了！馬斯克的無聊公司打穿賭城第一條地下隧道 - INSIDE</h6>, <h6 class=\"sc-erNlkL sc-ekulBa hDLssh\">未來的競爭對手和你想的不一樣！企業要存活，先問自己這3個問題 | 經理人</h6>, <h6 class=\"sc-erNlkL sc-ekulBa hDLssh\">又一新創暴起暴落：美國問答 HQ Trivia 賣不掉自己宣佈倒閉 - INSIDE</h6>, <h6 class=\"sc-erNlkL sc-ekulBa hDLssh\">防竊聽？來看芝加哥大學發明的超音波手鐲 - INSIDE</h6>], [<h6 class=\"sc-erNlkL sc-ekulBa hDLssh\">未來的競爭對手和你想的不一樣！企業要存活，先問自己這3個問題 | 經理人</h6>, <h6 class=\"sc-erNlkL sc-ekulBa hDLssh\">又一新創暴起暴落：美國問答 HQ Trivia 賣不掉自己宣佈倒閉 - INSIDE</h6>, <h6 class=\"sc-erNlkL sc-ekulBa hDLssh\">防竊聽？來看芝加哥大學發明的超音波手鐲 - INSIDE</h6>, <h6 class=\"sc-erNlkL sc-ekulBa hDLssh\">奧運、國際奧會官方 Twitter 竟遭駭客入侵！ - INSIDE</h6>, <h6 class=\"sc-erNlkL sc-ekulBa hDLssh\">賽事規模從38000人縮水到230人……新冠肺炎肆虐，東京馬拉鬆取消一般跑者參賽-風傳媒</h6>, <h6 class=\"sc-erNlkL sc-ekulBa hDLssh\">貿聯砸14億元併星國電子廠Speedy 強化工控及東南亞布局 | Anue鉅亨 - 台股新聞</h6>, <h6 class=\"sc-erNlkL sc-ekulBa hDLssh\">【Y晚報】大立光黑翻紅 臺股5日線失而復得 - Yahoo奇摩理財</h6>, <h6 class=\"sc-erNlkL sc-ekulBa hDLssh\">【影音時代 玩轉社群新行銷】 ❤️ 盲鳥優惠，立即報名</h6>, <h6 class=\"sc-erNlkL sc-ekulBa hDLssh\">華南鼠來發 春節一路發</h6>, <h6 class=\"sc-erNlkL sc-ekulBa hDLssh\">曾收治日本死亡首例，相模原中央病院也淪陷！照顧死者護理師，今確診罹患新冠肺炎-風傳媒</h6>, <h6 class=\"sc-erNlkL sc-ekulBa hDLssh\">武漢肺炎疫情》在臺生產口罩？鴻海出面回應了！ | 財訊- 掌握趨勢  投資未來 | 最懂投資的財經媒體</h6>, <h6 class=\"sc-erNlkL sc-ekulBa hDLssh\">臺商30年》中租集團辜仲立 拚命三郎拚上租賃龍頭 | 財訊- 掌握趨勢  投資未來 | 最懂投資的財經媒體</h6>, <h6 class=\"sc-erNlkL sc-ekulBa hDLssh\">2020工作大趨勢- Cheers快樂工作人</h6>, <h6 class=\"sc-erNlkL sc-ekulBa hDLssh\">為什麼臺灣還不到社區傳播？陳時中提這4徵兆 | 財訊- 掌握趨勢  投資未來 | 最懂投資的財經媒體</h6>], [<h6 class=\"sc-erNlkL sc-ekulBa hDLssh\">定位你自己，邁向成功的9個步驟！ | 知 識 家</h6>, <h6 class=\"sc-erNlkL sc-ekulBa hDLssh\">讓自己更有自信，你可以這麼做！ | 知 識 家</h6>, <h6 class=\"sc-erNlkL sc-ekulBa hDLssh\">成功的人會培養這 3 個鮮為人知的習慣 | 知 識 家</h6>, <h6 class=\"sc-erNlkL sc-ekulBa hDLssh\">每間都有獨立採光，還能共享交誼廳跟廚房！韓國「樹屋」讓收入有限的年輕人也能活得很有質感-風傳媒</h6>, <h6 class=\"sc-erNlkL sc-ekulBa hDLssh\">身為上班族，你一天辦公多久？澳洲研究：「久坐一小時，縮減22分鐘的壽命」 | SmartM 新網路科技</h6>, <h6 class=\"sc-erNlkL sc-ekulBa hDLssh\">【影片】《Sway說》2020房市預測</h6>, <h6 class=\"sc-erNlkL sc-ekulBa hDLssh\">一去不返的Facebook觸及率，經營品牌的下一步？GQ打造鐵粉循環提升影響力｜數位時代</h6>, <h6 class=\"sc-erNlkL sc-ekulBa hDLssh\">【東南亞週報】菲終止與美部隊訪問協定｜印澳全面經濟夥伴協定即將上路｜人權為由歐盟對柬撤部分零關稅優惠 - The News Lens 關鍵評論網</h6>, <h6 class=\"sc-erNlkL sc-ekulBa hDLssh\">武漢肺炎疫情使消費驟降　重挫阿根廷對中國進出口貿易-風傳媒</h6>], [<h6 class=\"sc-erNlkL sc-ekulBa hDLssh\">定位你自己，邁向成功的9個步驟！ | 知 識 家</h6>, <h6 class=\"sc-erNlkL sc-ekulBa hDLssh\">讓自己更有自信，你可以這麼做！ | 知 識 家</h6>, <h6 class=\"sc-erNlkL sc-ekulBa hDLssh\">成功的人會培養這 3 個鮮為人知的習慣 | 知 識 家</h6>, <h6 class=\"sc-erNlkL sc-ekulBa hDLssh\">每間都有獨立採光，還能共享交誼廳跟廚房！韓國「樹屋」讓收入有限的年輕人也能活得很有質感-風傳媒</h6>, <h6 class=\"sc-erNlkL sc-ekulBa hDLssh\">身為上班族，你一天辦公多久？澳洲研究：「久坐一小時，縮減22分鐘的壽命」 | SmartM 新網路科技</h6>, <h6 class=\"sc-erNlkL sc-ekulBa hDLssh\">【影片】《Sway說》2020房市預測</h6>, <h6 class=\"sc-erNlkL sc-ekulBa hDLssh\">一去不返的Facebook觸及率，經營品牌的下一步？GQ打造鐵粉循環提升影響力｜數位時代</h6>, <h6 class=\"sc-erNlkL sc-ekulBa hDLssh\">【東南亞週報】菲終止與美部隊訪問協定｜印澳全面經濟夥伴協定即將上路｜人權為由歐盟對柬撤部分零關稅優惠 - The News Lens 關鍵評論網</h6>, <h6 class=\"sc-erNlkL sc-ekulBa hDLssh\">武漢肺炎疫情使消費驟降　重挫阿根廷對中國進出口貿易-風傳媒</h6>], [<h6 class=\"sc-erNlkL sc-ekulBa hDLssh\">《1人健身》：維持肌力訓練的重點在於「管理你的意志力」 - The News Lens 關鍵評論網</h6>, <h6 class=\"sc-erNlkL sc-ekulBa hDLssh\">風險分散，你做到了嗎？ - StockFeel 股感</h6>, <h6 class=\"sc-erNlkL sc-ekulBa hDLssh\">Martech新創愛酷智能完成7,000萬高額Pre-A輪募資，投資方為新安東京海上與交大天使投資｜數位時代</h6>, <h6 class=\"sc-erNlkL sc-ekulBa hDLssh\">PSW 看得到吃不到？初創者簽證：讓「太早畢業」的國際學生，仍有機會續留英國 ｜ 2020 倫敦：後脫歐時代 ｜ 換日線 Crossing</h6>, <h6 class=\"sc-erNlkL sc-ekulBa hDLssh\">【美中官員在國際會議因 5G 槓上】中國官員質疑「西方民主脆弱到被華為威脅」，遭美眾議院議長強勢反擊 | BuzzOrange</h6>, <h6 class=\"sc-erNlkL sc-ekulBa hDLssh\">滯留湖北的臺灣人回得來嗎——返臺包機如外交大戰！不僅牽扯兩岸問題，更成「美中角力」戰場 | BuzzOrange</h6>, <h6 class=\"sc-erNlkL sc-ekulBa hDLssh\">重回17年前：當年的手機廠商是怎麼熬過非典疫情的？ - Yahoo奇摩新聞</h6>, <h6 class=\"sc-erNlkL sc-ekulBa hDLssh\">購併雙方考量—被併購時，你該有的思維與立場</h6>, <h6 class=\"sc-erNlkL sc-ekulBa hDLssh\">用巨型長鞭「甩」包裹、發射衛星？亞馬遜最新專利曝光 - INSIDE</h6>, <h6 class=\"sc-erNlkL sc-ekulBa hDLssh\">同事、主管約聚餐應酬，可以不去嗎？職場人際關係的真相 | 經理人</h6>, <h6 class=\"sc-erNlkL sc-ekulBa hDLssh\">配合學界研究 Facebook 提供隱私保護數據共享 - INSIDE</h6>, <h6 class=\"sc-erNlkL sc-ekulBa hDLssh\">反其道而行！Google 孵化器 Area 120 推出HTML 5 遊戲平臺 - INSIDE</h6>, <h6 class=\"sc-erNlkL sc-ekulBa hDLssh\">疫情帶動宅經濟，電商徵才月薪上看 10 萬元 | TechNews 科技新報</h6>, <h6 class=\"sc-erNlkL sc-ekulBa hDLssh\">和失智長輩一起去旅行！六福旅遊的「喘息服務」，如何突破框架、打造新的生意？ | 經理人</h6>], [<h6 class=\"sc-erNlkL sc-ekulBa hDLssh\">反其道而行！Google 孵化器 Area 120 推出HTML 5 遊戲平臺 - INSIDE</h6>, <h6 class=\"sc-erNlkL sc-ekulBa hDLssh\">疫情帶動宅經濟，電商徵才月薪上看 10 萬元 | TechNews 科技新報</h6>, <h6 class=\"sc-erNlkL sc-ekulBa hDLssh\">和失智長輩一起去旅行！六福旅遊的「喘息服務」，如何突破框架、打造新的生意？ | 經理人</h6>, <h6 class=\"sc-erNlkL sc-ekulBa hDLssh\">嫌高通會讓 iPhone 太厚，蘋果可能會自行設計 5G 天線 - INSIDE</h6>, <h6 class=\"sc-erNlkL sc-ekulBa hDLssh\">唐鳳：多國對臺灣開放政府做口罩網路平臺感興趣！ - INSIDE</h6>, <h6 class=\"sc-erNlkL sc-ekulBa hDLssh\">疫情帶動宅經濟！電商徵才月薪上看 10 萬元 - INSIDE</h6>, <h6 class=\"sc-erNlkL sc-ekulBa hDLssh\">到職一年還是老出錯！講不聽、聽不懂的員工，該忍嗎？能怎麼教？ | 經理人</h6>, <h6 class=\"sc-erNlkL sc-ekulBa hDLssh\">突刪減死亡病例！中國坦言重複統計 數據真實性遭疑 - INSIDE</h6>, <h6 class=\"sc-erNlkL sc-ekulBa hDLssh\">川普減稅 2.0 異想天開？鼓勵全民炒股 - INSIDE</h6>], [<h6 class=\"sc-erNlkL sc-ekulBa hDLssh\">反其道而行！Google 孵化器 Area 120 推出HTML 5 遊戲平臺 - INSIDE</h6>, <h6 class=\"sc-erNlkL sc-ekulBa hDLssh\">疫情帶動宅經濟，電商徵才月薪上看 10 萬元 | TechNews 科技新報</h6>, <h6 class=\"sc-erNlkL sc-ekulBa hDLssh\">和失智長輩一起去旅行！六福旅遊的「喘息服務」，如何突破框架、打造新的生意？ | 經理人</h6>, <h6 class=\"sc-erNlkL sc-ekulBa hDLssh\">嫌高通會讓 iPhone 太厚，蘋果可能會自行設計 5G 天線 - INSIDE</h6>, <h6 class=\"sc-erNlkL sc-ekulBa hDLssh\">唐鳳：多國對臺灣開放政府做口罩網路平臺感興趣！ - INSIDE</h6>, <h6 class=\"sc-erNlkL sc-ekulBa hDLssh\">疫情帶動宅經濟！電商徵才月薪上看 10 萬元 - INSIDE</h6>, <h6 class=\"sc-erNlkL sc-ekulBa hDLssh\">到職一年還是老出錯！講不聽、聽不懂的員工，該忍嗎？能怎麼教？ | 經理人</h6>, <h6 class=\"sc-erNlkL sc-ekulBa hDLssh\">突刪減死亡病例！中國坦言重複統計 數據真實性遭疑 - INSIDE</h6>, <h6 class=\"sc-erNlkL sc-ekulBa hDLssh\">川普減稅 2.0 異想天開？鼓勵全民炒股 - INSIDE</h6>], [<h6 class=\"sc-erNlkL sc-ekulBa hDLssh\">反其道而行！Google 孵化器 Area 120 推出HTML 5 遊戲平臺 - INSIDE</h6>, <h6 class=\"sc-erNlkL sc-ekulBa hDLssh\">疫情帶動宅經濟，電商徵才月薪上看 10 萬元 | TechNews 科技新報</h6>, <h6 class=\"sc-erNlkL sc-ekulBa hDLssh\">和失智長輩一起去旅行！六福旅遊的「喘息服務」，如何突破框架、打造新的生意？ | 經理人</h6>, <h6 class=\"sc-erNlkL sc-ekulBa hDLssh\">嫌高通會讓 iPhone 太厚，蘋果可能會自行設計 5G 天線 - INSIDE</h6>, <h6 class=\"sc-erNlkL sc-ekulBa hDLssh\">唐鳳：多國對臺灣開放政府做口罩網路平臺感興趣！ - INSIDE</h6>, <h6 class=\"sc-erNlkL sc-ekulBa hDLssh\">疫情帶動宅經濟！電商徵才月薪上看 10 萬元 - INSIDE</h6>, <h6 class=\"sc-erNlkL sc-ekulBa hDLssh\">到職一年還是老出錯！講不聽、聽不懂的員工，該忍嗎？能怎麼教？ | 經理人</h6>, <h6 class=\"sc-erNlkL sc-ekulBa hDLssh\">突刪減死亡病例！中國坦言重複統計 數據真實性遭疑 - INSIDE</h6>, <h6 class=\"sc-erNlkL sc-ekulBa hDLssh\">川普減稅 2.0 異想天開？鼓勵全民炒股 - INSIDE</h6>, <h6 class=\"sc-erNlkL sc-ekulBa hDLssh\">武漢肺炎效應，愛立信、Nvidia也不去MWC，主辦單位禁湖北人士參加 | iThome</h6>, <h6 class=\"sc-erNlkL sc-ekulBa hDLssh\">業務人員必修課：如何面對客戶的「拒絕」？希臘神話的啟示 | 經理人</h6>, <h6 class=\"sc-erNlkL sc-ekulBa hDLssh\">綠角財經筆記: ETF費用低廉的真正原因(There are ETFs with High Expense Ratios)</h6>, <h6 class=\"sc-erNlkL sc-ekulBa hDLssh\">．武肺疫情對臺灣智慧監控產業的影響，會是危機？還是契機？ - 3S Market「全球智慧科技應用」市場資訊網</h6>, <h6 class=\"sc-erNlkL sc-ekulBa hDLssh\">〈觀察〉疫情避險使臺灣10年公債利率破底？其實還有4100億元壽險資金找出口 | Anue鉅亨 - 鉅亨新視界</h6>, <h6 class=\"sc-erNlkL sc-ekulBa hDLssh\">〈鉅亨看世界〉醫學博士如何看待鑽石公主羣聚感染？ | Anue鉅亨 - 鉅亨新視界</h6>]]\n"
     ]
    }
   ],
   "source": [
    "browser = webdriver.Chrome(executable_path='./chromedriver')\n",
    "browser.get(url)  # 打開瀏覽器並連到東森新聞雲網頁\n",
    "\n",
    "SCROLL_PAUSE_TIME = 1\n",
    "\n",
    "#\n",
    "# 以下是用Selenium模擬下拉網頁動作，讓網頁更新\n",
    "#\n",
    "last_height = browser.execute_script(\"window.scrollTo(0, document.body.scrollHeight);\")\n",
    "data = []\n",
    "while True:\n",
    "    # Scroll down to the bottom.\n",
    "    browser.execute_script(\"window.scrollTo(0, document.body.scrollHeight);\")\n",
    "\n",
    "    html = browser.page_source\n",
    "    soup = BeautifulSoup(html, \"lxml\")\n",
    "    all_news = soup.find(\"div\",attrs={'class':'ReactVirtualized__List'})\n",
    "    # print(all_news)\n",
    "    news_block = all_news.find_all(\"h6\")\n",
    "#     print(news_block)\n",
    "    data.append(news_block)\n",
    "    # Wait to load the page.\n",
    "    time.sleep(2)\n",
    "\n",
    "    # Calculate new scroll height and compare with last scroll height.\n",
    "    new_height = browser.execute_script(\"return document.body.scrollHeight\")\n",
    "    if new_height == last_height:\n",
    "        break\n",
    "    last_height = new_height\n",
    "print(data)"
   ]
  },
  {
   "cell_type": "code",
   "execution_count": 27,
   "metadata": {},
   "outputs": [
    {
     "ename": "TypeError",
     "evalue": "unhashable type: 'ResultSet'",
     "output_type": "error",
     "traceback": [
      "\u001b[0;31m---------------------------------------------------------------------------\u001b[0m",
      "\u001b[0;31mTypeError\u001b[0m                                 Traceback (most recent call last)",
      "\u001b[0;32m<ipython-input-27-1a95d801c027>\u001b[0m in \u001b[0;36m<module>\u001b[0;34m\u001b[0m\n\u001b[0;32m----> 1\u001b[0;31m \u001b[0mdata\u001b[0m \u001b[0;34m=\u001b[0m \u001b[0mdict\u001b[0m\u001b[0;34m.\u001b[0m\u001b[0mfromkeys\u001b[0m\u001b[0;34m(\u001b[0m\u001b[0mdata\u001b[0m\u001b[0;34m)\u001b[0m\u001b[0;34m\u001b[0m\u001b[0;34m\u001b[0m\u001b[0m\n\u001b[0m\u001b[1;32m      2\u001b[0m \u001b[0mprint\u001b[0m\u001b[0;34m(\u001b[0m\u001b[0mlen\u001b[0m\u001b[0;34m(\u001b[0m\u001b[0mdata\u001b[0m\u001b[0;34m)\u001b[0m\u001b[0;34m)\u001b[0m\u001b[0;34m\u001b[0m\u001b[0;34m\u001b[0m\u001b[0m\n",
      "\u001b[0;31mTypeError\u001b[0m: unhashable type: 'ResultSet'"
     ]
    }
   ],
   "source": [
    "data = dict.fromkeys(data)\n",
    "print(len(data))"
   ]
  },
  {
   "cell_type": "code",
   "execution_count": 21,
   "metadata": {},
   "outputs": [
    {
     "name": "stdout",
     "output_type": "stream",
     "text": [
      "[<h6 class=\"sc-erNlkL sc-ekulBa hDLssh\">從SARS到武漢肺炎，中國佔全球GDP比重成長了4倍—這次對全球經濟的打擊恐怕也是4倍-風傳媒</h6>, <h6 class=\"sc-erNlkL sc-ekulBa hDLssh\">武漢肺炎蔓延亞洲，衛福部發布旅遊警示：港澳三級、新加坡二級、泰國一級 - The News Lens 關鍵評論網</h6>, <h6 class=\"sc-erNlkL sc-ekulBa hDLssh\">戴永輝呂芳銘攜手　臺灣有線電視市場三國鼎立時代來臨-風傳媒</h6>, <h6 class=\"sc-erNlkL sc-ekulBa hDLssh\">過完元宵節的中國兩難：復工，疫情可能擴大；不復工，經濟可能重創-風傳媒</h6>, <h6 class=\"sc-erNlkL sc-ekulBa hDLssh\">武漢肺炎的機會財 - 動腦Brain.com.tw｜行銷．廣告．傳播．創意數位平台</h6>, <h6 class=\"sc-erNlkL sc-ekulBa hDLssh\">5年滾400萬，讓月薪9萬的29歲警也要離職的理由：就因為股神巴菲特也選它！-風傳媒</h6>, <h6 class=\"sc-erNlkL sc-ekulBa hDLssh\">武漢肺炎．經濟風暴》日本6成企業受到衝擊，今年GDP恐將縮水1%-風傳媒</h6>, <h6 class=\"sc-erNlkL sc-ekulBa hDLssh\">PepsiCo Inc (PEP) 飲料與零食的巨擘 - StockFeel 股感</h6>, <h6 class=\"sc-erNlkL sc-ekulBa hDLssh\">黃埔軍校是國民黨的，還是共產黨的？（上） - The News Lens 關鍵評論網</h6>, <h6 class=\"sc-erNlkL sc-ekulBa hDLssh\">從疫區回臺「趴趴走」違反隔離規定，有無相關法規可以處罰？ - The News Lens 關鍵評論網</h6>, <h6 class=\"sc-erNlkL sc-ekulBa hDLssh\">金鼠年大預言：從命理角度預測國家運勢、企業展望及金融市場 - The News Lens 關鍵評論網</h6>, <h6 class=\"sc-erNlkL sc-ekulBa hDLssh\">義大利證監當局關閉 8 家加密貨幣與外匯交易網站 - 區塊客</h6>, <h6 class=\"sc-erNlkL sc-ekulBa hDLssh\">投資ETF又不一定賺得多、過程還很無聊？試算：青年投入100萬，退休會滾17倍-股魚─不看盤投資-ETF-商周財富網</h6>, <h6 class=\"sc-erNlkL sc-ekulBa hDLssh\">「富有但並不現代化」 瑞士公投擴大《反歧視法》LGBT權益更進一步 | DQ 地球圖輯隊 帶你看透全世界</h6>, <h6 class=\"sc-erNlkL sc-ekulBa hDLssh\">川普提 2020 財年預算，擬加強監管加密貨幣 - 區塊客</h6>]\n"
     ]
    }
   ],
   "source": [
    "# 爬取網頁內容，解析後萃取新聞摘要\n",
    "html = browser.page_source\n",
    "soup = BeautifulSoup(html, \"lxml\")\n",
    "all_news = soup.find(\"div\",attrs={'class':'ReactVirtualized__List'})\n",
    "# print(all_news)\n",
    "news_block = all_news.find_all(\"h6\")\n",
    "print(news_block)\n",
    "# for i, news_item in enumerate(news_block):\n",
    "#     print(\"----------------------------------------------------------------------\")\n",
    "#     news_body = news_item.find('h3')\n",
    "#     print(\"\\n[%d] %s\\n\" % (i, news_body.a.string))\n",
    "    \n",
    "#     # \n",
    "#     # 連到外部連結，擷取詳細新聞內容\n",
    "#     #\n",
    "#     externalLink = \"https://www.ettoday.net\" + news_body.a[\"href\"]\n",
    "#     getNewsDetailContent(externalLink)\n",
    "\n"
   ]
  },
  {
   "cell_type": "code",
   "execution_count": null,
   "metadata": {},
   "outputs": [],
   "source": []
  },
  {
   "cell_type": "code",
   "execution_count": null,
   "metadata": {},
   "outputs": [],
   "source": []
  }
 ],
 "metadata": {
  "kernelspec": {
   "display_name": "env_jupyter",
   "language": "python",
   "name": "env_jupyter"
  },
  "language_info": {
   "codemirror_mode": {
    "name": "ipython",
    "version": 3
   },
   "file_extension": ".py",
   "mimetype": "text/x-python",
   "name": "python",
   "nbconvert_exporter": "python",
   "pygments_lexer": "ipython3",
   "version": "3.7.5"
  }
 },
 "nbformat": 4,
 "nbformat_minor": 2
}
