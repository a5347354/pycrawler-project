{
 "cells": [
  {
   "cell_type": "code",
   "execution_count": 104,
   "metadata": {},
   "outputs": [],
   "source": [
    "import requests\n",
    "import time\n",
    "from bs4 import BeautifulSoup\n",
    "import json\n",
    "from tqdm import tqdm\n",
    "import pandas as pd\n",
    "import re"
   ]
  },
  {
   "cell_type": "code",
   "execution_count": 87,
   "metadata": {},
   "outputs": [
    {
     "name": "stdout",
     "output_type": "stream",
     "text": [
      "500\n"
     ]
    }
   ],
   "source": [
    "page = 500\n",
    "url = \"https://www.cupoy.com/MixNewsMongoAction.do?op=getTopMixNewsByBucketGroup&groupid=business_tw&startNewsID=1&len=\"+str(page)  #財經新聞\n",
    "resp = requests.get(url)\n",
    "resp.encoding = 'utf-8'\n",
    "# print(resp.text)  # 如有需要，列印出網頁原始碼\n",
    "j = json.loads(resp.text)\n",
    "items = j['items']\n",
    "print(len(items))"
   ]
  },
  {
   "cell_type": "code",
   "execution_count": 95,
   "metadata": {},
   "outputs": [
    {
     "name": "stderr",
     "output_type": "stream",
     "text": [
      "100%|██████████| 500/500 [00:00<00:00, 10043.78it/s]"
     ]
    },
    {
     "name": "stdout",
     "output_type": "stream",
     "text": [
      "500\n"
     ]
    },
    {
     "name": "stderr",
     "output_type": "stream",
     "text": [
      "\n"
     ]
    }
   ],
   "source": [
    "j = json.loads(resp.text)\n",
    "items = j['items']\n",
    "titles = []\n",
    "urls = []\n",
    "fb_shares_arr = [] \n",
    "fb_likes_arr = []\n",
    "gplus_likes_arr = []\n",
    "pin_counts_arr = []\n",
    "linkedin_shares_arr = []\n",
    "reddit_shares_arr = []\n",
    "nation_arr = []\n",
    "for i in tqdm(range(len(items))):\n",
    "    titles.append(items[i]['title']) \n",
    "    urls.append(items[i]['linkurl'])\n",
    "    nation_arr.append(items[i]['nationID'])\n",
    "    fb_shares_arr.append(items[i]['metrics']['socialScorer']['fb_shares'])\n",
    "    fb_likes_arr.append(items[i]['metrics']['socialScorer']['fb_likes'])\n",
    "    gplus_likes_arr.append(items[i]['metrics']['socialScorer']['gplus_likes'])\n",
    "    pin_counts_arr.append(items[i]['metrics']['socialScorer']['pin_counts'])\n",
    "    linkedin_shares_arr.append(items[i]['metrics']['socialScorer']['linkedin_shares'])\n",
    "    reddit_shares_arr.append(items[i]['metrics']['socialScorer']['reddit_shares'])\n",
    "    \n",
    "print(len(nation_arr))"
   ]
  },
  {
   "cell_type": "markdown",
   "metadata": {},
   "source": [
    "### Get Publisher from title"
   ]
  },
  {
   "cell_type": "code",
   "execution_count": 138,
   "metadata": {},
   "outputs": [
    {
     "name": "stderr",
     "output_type": "stream",
     "text": [
      "100%|██████████| 500/500 [00:00<00:00, 25515.59it/s]\n"
     ]
    }
   ],
   "source": [
    "publishers = []\n",
    "for i in tqdm(range(len(titles))):\n",
    "    x = re.split(\"(\\||\\-|\\｜)\", titles[i])\n",
    "    length = len(x)\n",
    "    publish = x[length-1].strip()\n",
    "    if length == 1: \n",
    "        publish = \"\"\n",
    "    publishers.append(publish)"
   ]
  },
  {
   "cell_type": "code",
   "execution_count": 139,
   "metadata": {},
   "outputs": [
    {
     "data": {
      "text/html": [
       "<div>\n",
       "<style scoped>\n",
       "    .dataframe tbody tr th:only-of-type {\n",
       "        vertical-align: middle;\n",
       "    }\n",
       "\n",
       "    .dataframe tbody tr th {\n",
       "        vertical-align: top;\n",
       "    }\n",
       "\n",
       "    .dataframe thead th {\n",
       "        text-align: right;\n",
       "    }\n",
       "</style>\n",
       "<table border=\"1\" class=\"dataframe\">\n",
       "  <thead>\n",
       "    <tr style=\"text-align: right;\">\n",
       "      <th></th>\n",
       "      <th>titles</th>\n",
       "      <th>publishers</th>\n",
       "      <th>fb_shares</th>\n",
       "      <th>fb_likes</th>\n",
       "      <th>gplus_likes</th>\n",
       "      <th>pin_counts</th>\n",
       "      <th>linkedin_shares</th>\n",
       "      <th>reddit_shares</th>\n",
       "    </tr>\n",
       "  </thead>\n",
       "  <tbody>\n",
       "    <tr>\n",
       "      <th>488</th>\n",
       "      <td>瑞典全國一個月不上班國家也沒倒！而國家並不會因為人民像工蟻不斷工作更有競爭力 | BuzzO...</td>\n",
       "      <td>BuzzOrange</td>\n",
       "      <td>12069</td>\n",
       "      <td>47</td>\n",
       "      <td>0</td>\n",
       "      <td>0</td>\n",
       "      <td>0</td>\n",
       "      <td>0</td>\n",
       "    </tr>\n",
       "    <tr>\n",
       "      <th>492</th>\n",
       "      <td>誰說工時太短不能拚經濟？德國就有「八小時工時制」聖旨──不給員工加班！ | BuzzOrange</td>\n",
       "      <td>BuzzOrange</td>\n",
       "      <td>8457</td>\n",
       "      <td>32</td>\n",
       "      <td>0</td>\n",
       "      <td>0</td>\n",
       "      <td>0</td>\n",
       "      <td>0</td>\n",
       "    </tr>\n",
       "    <tr>\n",
       "      <th>491</th>\n",
       "      <td>這個「通病」讓臺灣產業死去──本土遊戲 90 年代曾是亞洲第二，為何最後走向沒落？ | Bu...</td>\n",
       "      <td>BuzzOrange</td>\n",
       "      <td>8342</td>\n",
       "      <td>101</td>\n",
       "      <td>0</td>\n",
       "      <td>0</td>\n",
       "      <td>0</td>\n",
       "      <td>0</td>\n",
       "    </tr>\n",
       "    <tr>\n",
       "      <th>350</th>\n",
       "      <td>你今天多賺了幾小時？盤點時間損益表，奪回你最寶貴的時間！ | 經理人</td>\n",
       "      <td>經理人</td>\n",
       "      <td>4824</td>\n",
       "      <td>531</td>\n",
       "      <td>0</td>\n",
       "      <td>0</td>\n",
       "      <td>0</td>\n",
       "      <td>0</td>\n",
       "    </tr>\n",
       "    <tr>\n",
       "      <th>4</th>\n",
       "      <td>心理學家的職場觀察：公司裡的 4 種人，最累的是這種 | 經理人</td>\n",
       "      <td>經理人</td>\n",
       "      <td>4633</td>\n",
       "      <td>931</td>\n",
       "      <td>0</td>\n",
       "      <td>0</td>\n",
       "      <td>0</td>\n",
       "      <td>0</td>\n",
       "    </tr>\n",
       "    <tr>\n",
       "      <th>...</th>\n",
       "      <td>...</td>\n",
       "      <td>...</td>\n",
       "      <td>...</td>\n",
       "      <td>...</td>\n",
       "      <td>...</td>\n",
       "      <td>...</td>\n",
       "      <td>...</td>\n",
       "      <td>...</td>\n",
       "    </tr>\n",
       "    <tr>\n",
       "      <th>167</th>\n",
       "      <td>【下班經濟學】長照險有保沒保庇？ 挑錯保單恐淪下流老人-風傳媒</td>\n",
       "      <td>風傳媒</td>\n",
       "      <td>0</td>\n",
       "      <td>0</td>\n",
       "      <td>0</td>\n",
       "      <td>0</td>\n",
       "      <td>0</td>\n",
       "      <td>0</td>\n",
       "    </tr>\n",
       "    <tr>\n",
       "      <th>166</th>\n",
       "      <td>打破「售價=成本10倍」的保養品暴利行情，讓蘭蔻、雅詩蘭黛都注意到的加拿大平價保養品牌！ |...</td>\n",
       "      <td>SmartM 新網路科技</td>\n",
       "      <td>0</td>\n",
       "      <td>0</td>\n",
       "      <td>0</td>\n",
       "      <td>0</td>\n",
       "      <td>0</td>\n",
       "      <td>0</td>\n",
       "    </tr>\n",
       "    <tr>\n",
       "      <th>165</th>\n",
       "      <td>你會照櫥窗模特兒的搭配整套買，或自己穿搭？日本貴婦分享家族祖傳的購物心法-風傳媒</td>\n",
       "      <td>風傳媒</td>\n",
       "      <td>0</td>\n",
       "      <td>0</td>\n",
       "      <td>0</td>\n",
       "      <td>0</td>\n",
       "      <td>0</td>\n",
       "      <td>0</td>\n",
       "    </tr>\n",
       "    <tr>\n",
       "      <th>164</th>\n",
       "      <td>6成大腸癌患者都有這前兆！睡眠問題切忌輕忽，醫學教授都靠這2招好好睡覺-風傳媒</td>\n",
       "      <td>風傳媒</td>\n",
       "      <td>0</td>\n",
       "      <td>0</td>\n",
       "      <td>0</td>\n",
       "      <td>0</td>\n",
       "      <td>0</td>\n",
       "      <td>0</td>\n",
       "    </tr>\n",
       "    <tr>\n",
       "      <th>499</th>\n",
       "      <td>用黑錢主宰與顛覆全球經濟——「柯林頓的好友」達赫達勒｜數位時代</td>\n",
       "      <td>數位時代</td>\n",
       "      <td>0</td>\n",
       "      <td>0</td>\n",
       "      <td>0</td>\n",
       "      <td>0</td>\n",
       "      <td>0</td>\n",
       "      <td>0</td>\n",
       "    </tr>\n",
       "  </tbody>\n",
       "</table>\n",
       "<p>466 rows × 8 columns</p>\n",
       "</div>"
      ],
      "text/plain": [
       "                                                titles    publishers  \\\n",
       "488  瑞典全國一個月不上班國家也沒倒！而國家並不會因為人民像工蟻不斷工作更有競爭力 | BuzzO...    BuzzOrange   \n",
       "492   誰說工時太短不能拚經濟？德國就有「八小時工時制」聖旨──不給員工加班！ | BuzzOrange    BuzzOrange   \n",
       "491  這個「通病」讓臺灣產業死去──本土遊戲 90 年代曾是亞洲第二，為何最後走向沒落？ | Bu...    BuzzOrange   \n",
       "350                 你今天多賺了幾小時？盤點時間損益表，奪回你最寶貴的時間！ | 經理人           經理人   \n",
       "4                     心理學家的職場觀察：公司裡的 4 種人，最累的是這種 | 經理人           經理人   \n",
       "..                                                 ...           ...   \n",
       "167                    【下班經濟學】長照險有保沒保庇？ 挑錯保單恐淪下流老人-風傳媒           風傳媒   \n",
       "166  打破「售價=成本10倍」的保養品暴利行情，讓蘭蔻、雅詩蘭黛都注意到的加拿大平價保養品牌！ |...  SmartM 新網路科技   \n",
       "165           你會照櫥窗模特兒的搭配整套買，或自己穿搭？日本貴婦分享家族祖傳的購物心法-風傳媒           風傳媒   \n",
       "164            6成大腸癌患者都有這前兆！睡眠問題切忌輕忽，醫學教授都靠這2招好好睡覺-風傳媒           風傳媒   \n",
       "499                    用黑錢主宰與顛覆全球經濟——「柯林頓的好友」達赫達勒｜數位時代          數位時代   \n",
       "\n",
       "     fb_shares  fb_likes  gplus_likes  pin_counts  linkedin_shares  \\\n",
       "488      12069        47            0           0                0   \n",
       "492       8457        32            0           0                0   \n",
       "491       8342       101            0           0                0   \n",
       "350       4824       531            0           0                0   \n",
       "4         4633       931            0           0                0   \n",
       "..         ...       ...          ...         ...              ...   \n",
       "167          0         0            0           0                0   \n",
       "166          0         0            0           0                0   \n",
       "165          0         0            0           0                0   \n",
       "164          0         0            0           0                0   \n",
       "499          0         0            0           0                0   \n",
       "\n",
       "     reddit_shares  \n",
       "488              0  \n",
       "492              0  \n",
       "491              0  \n",
       "350              0  \n",
       "4                0  \n",
       "..             ...  \n",
       "167              0  \n",
       "166              0  \n",
       "165              0  \n",
       "164              0  \n",
       "499              0  \n",
       "\n",
       "[466 rows x 8 columns]"
      ]
     },
     "execution_count": 139,
     "metadata": {},
     "output_type": "execute_result"
    }
   ],
   "source": [
    "news_dict = {\n",
    "    \"titles\": titles,\n",
    "#     \"urls\": urls,\n",
    "    \"publishers\":publishers,\n",
    "    \"fb_shares\":fb_shares_arr,\n",
    "    \"fb_likes\": fb_likes_arr,\n",
    "    \"gplus_likes\":gplus_likes_arr,\n",
    "    \"pin_counts\":pin_counts_arr,\n",
    "    \"linkedin_shares\":linkedin_shares_arr,\n",
    "    \"reddit_shares\":reddit_shares_arr\n",
    "}\n",
    "df = pd.DataFrame(news_dict)\n",
    "\n",
    "#  Remove Pusblisher is empty\n",
    "df = df[df['publishers']!=\"\"]\n",
    "df.sort_values(by=['fb_shares'], inplace=True, ascending=False)\n",
    "df"
   ]
  },
  {
   "cell_type": "code",
   "execution_count": 116,
   "metadata": {},
   "outputs": [
    {
     "ename": "ValueError",
     "evalue": "hist method requires numerical columns, nothing to plot.",
     "output_type": "error",
     "traceback": [
      "\u001b[0;31m---------------------------------------------------------------------------\u001b[0m",
      "\u001b[0;31mValueError\u001b[0m                                Traceback (most recent call last)",
      "\u001b[0;32m<ipython-input-116-5971d8fc8d7d>\u001b[0m in \u001b[0;36m<module>\u001b[0;34m\u001b[0m\n\u001b[0;32m----> 1\u001b[0;31m \u001b[0mdf\u001b[0m\u001b[0;34m.\u001b[0m\u001b[0mhist\u001b[0m\u001b[0;34m(\u001b[0m\u001b[0mcolumn\u001b[0m\u001b[0;34m=\u001b[0m\u001b[0;34m'publishers'\u001b[0m\u001b[0;34m)\u001b[0m\u001b[0;34m\u001b[0m\u001b[0;34m\u001b[0m\u001b[0m\n\u001b[0m",
      "\u001b[0;32m~/Documents/Github/100Day-pycrawler-Marathon/env_jupyter/lib/python3.7/site-packages/pandas/plotting/_core.py\u001b[0m in \u001b[0;36mhist_frame\u001b[0;34m(data, column, by, grid, xlabelsize, xrot, ylabelsize, yrot, ax, sharex, sharey, figsize, layout, bins, **kwds)\u001b[0m\n\u001b[1;32m    197\u001b[0m         \u001b[0mlayout\u001b[0m\u001b[0;34m=\u001b[0m\u001b[0mlayout\u001b[0m\u001b[0;34m,\u001b[0m\u001b[0;34m\u001b[0m\u001b[0;34m\u001b[0m\u001b[0m\n\u001b[1;32m    198\u001b[0m         \u001b[0mbins\u001b[0m\u001b[0;34m=\u001b[0m\u001b[0mbins\u001b[0m\u001b[0;34m,\u001b[0m\u001b[0;34m\u001b[0m\u001b[0;34m\u001b[0m\u001b[0m\n\u001b[0;32m--> 199\u001b[0;31m         \u001b[0;34m**\u001b[0m\u001b[0mkwds\u001b[0m\u001b[0;34m\u001b[0m\u001b[0;34m\u001b[0m\u001b[0m\n\u001b[0m\u001b[1;32m    200\u001b[0m     )\n\u001b[1;32m    201\u001b[0m \u001b[0;34m\u001b[0m\u001b[0m\n",
      "\u001b[0;32m~/Documents/Github/100Day-pycrawler-Marathon/env_jupyter/lib/python3.7/site-packages/pandas/plotting/_matplotlib/hist.py\u001b[0m in \u001b[0;36mhist_frame\u001b[0;34m(data, column, by, grid, xlabelsize, xrot, ylabelsize, yrot, ax, sharex, sharey, figsize, layout, bins, **kwds)\u001b[0m\n\u001b[1;32m    395\u001b[0m \u001b[0;34m\u001b[0m\u001b[0m\n\u001b[1;32m    396\u001b[0m     \u001b[0;32mif\u001b[0m \u001b[0mnaxes\u001b[0m \u001b[0;34m==\u001b[0m \u001b[0;36m0\u001b[0m\u001b[0;34m:\u001b[0m\u001b[0;34m\u001b[0m\u001b[0;34m\u001b[0m\u001b[0m\n\u001b[0;32m--> 397\u001b[0;31m         \u001b[0;32mraise\u001b[0m \u001b[0mValueError\u001b[0m\u001b[0;34m(\u001b[0m\u001b[0;34m\"hist method requires numerical columns, \"\u001b[0m \u001b[0;34m\"nothing to plot.\"\u001b[0m\u001b[0;34m)\u001b[0m\u001b[0;34m\u001b[0m\u001b[0;34m\u001b[0m\u001b[0m\n\u001b[0m\u001b[1;32m    398\u001b[0m \u001b[0;34m\u001b[0m\u001b[0m\n\u001b[1;32m    399\u001b[0m     fig, axes = _subplots(\n",
      "\u001b[0;31mValueError\u001b[0m: hist method requires numerical columns, nothing to plot."
     ]
    }
   ],
   "source": [
    "df.hist(column='publishers')"
   ]
  },
  {
   "cell_type": "code",
   "execution_count": null,
   "metadata": {},
   "outputs": [],
   "source": []
  }
 ],
 "metadata": {
  "kernelspec": {
   "display_name": "env_jupyter",
   "language": "python",
   "name": "env_jupyter"
  },
  "language_info": {
   "codemirror_mode": {
    "name": "ipython",
    "version": 3
   },
   "file_extension": ".py",
   "mimetype": "text/x-python",
   "name": "python",
   "nbconvert_exporter": "python",
   "pygments_lexer": "ipython3",
   "version": "3.7.5"
  }
 },
 "nbformat": 4,
 "nbformat_minor": 2
}
