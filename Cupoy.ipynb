{
 "cells": [
  {
   "cell_type": "code",
   "execution_count": 303,
   "metadata": {},
   "outputs": [],
   "source": [
    "import requests\n",
    "import time\n",
    "from bs4 import BeautifulSoup\n",
    "import json\n",
    "from tqdm import tqdm\n",
    "import pandas as pd\n",
    "import re\n",
    "from wordcloud import WordCloud, STOPWORDS, ImageColorGenerator"
   ]
  },
  {
   "cell_type": "code",
   "execution_count": 304,
   "metadata": {},
   "outputs": [
    {
     "name": "stdout",
     "output_type": "stream",
     "text": [
      "1000\n"
     ]
    }
   ],
   "source": [
    "page = 1000\n",
    "url = \"https://www.cupoy.com/MixNewsMongoAction.do?op=getTopMixNewsByBucketGroup&groupid=business_tw&startNewsID=1&len=\"+str(page)  #財經新聞\n",
    "resp = requests.get(url)\n",
    "resp.encoding = 'utf-8'\n",
    "# print(resp.text)  # 如有需要，列印出網頁原始碼\n",
    "j = json.loads(resp.text)\n",
    "items = j['items']\n",
    "print(len(items))"
   ]
  },
  {
   "cell_type": "code",
   "execution_count": 305,
   "metadata": {},
   "outputs": [
    {
     "name": "stderr",
     "output_type": "stream",
     "text": [
      "100%|██████████| 1000/1000 [00:00<00:00, 86754.17it/s]"
     ]
    },
    {
     "name": "stdout",
     "output_type": "stream",
     "text": [
      "999\n"
     ]
    },
    {
     "name": "stderr",
     "output_type": "stream",
     "text": [
      "\n"
     ]
    }
   ],
   "source": [
    "j = json.loads(resp.text)\n",
    "items = j['items']\n",
    "titles = []\n",
    "urls = []\n",
    "fb_shares_arr = [] \n",
    "fb_likes_arr = []\n",
    "gplus_likes_arr = []\n",
    "pin_counts_arr = []\n",
    "linkedin_shares_arr = []\n",
    "reddit_shares_arr = []\n",
    "nation_arr = []\n",
    "for i in tqdm(range(len(items))):\n",
    "    if items[i]['metrics'].__contains__('socialScorer'):\n",
    "        titles.append(items[i]['title']) \n",
    "    #     urls.append(items[i]['linkurl'])\n",
    "        nation_arr.append(items[i]['nationID'])\n",
    "        fb_shares_arr.append(items[i]['metrics']['socialScorer']['fb_shares'])\n",
    "        fb_likes_arr.append(items[i]['metrics']['socialScorer']['fb_likes'])\n",
    "        gplus_likes_arr.append(items[i]['metrics']['socialScorer']['gplus_likes'])\n",
    "        pin_counts_arr.append(items[i]['metrics']['socialScorer']['pin_counts'])\n",
    "        linkedin_shares_arr.append(items[i]['metrics']['socialScorer']['linkedin_shares'])\n",
    "        reddit_shares_arr.append(items[i]['metrics']['socialScorer']['reddit_shares'])\n",
    "\n",
    "print(len(nation_arr))"
   ]
  },
  {
   "cell_type": "markdown",
   "metadata": {},
   "source": [
    "### Get Publisher from title"
   ]
  },
  {
   "cell_type": "code",
   "execution_count": 306,
   "metadata": {},
   "outputs": [
    {
     "name": "stderr",
     "output_type": "stream",
     "text": [
      "100%|██████████| 999/999 [00:00<00:00, 71624.58it/s]\n"
     ]
    }
   ],
   "source": [
    "publishers = []\n",
    "for i in tqdm(range(len(titles))):\n",
    "    x = re.split(\"(\\||\\-|\\｜)\", titles[i])\n",
    "    length = len(x)\n",
    "    publish = x[length-1].strip()\n",
    "    if length == 1: \n",
    "        publish = \"\"\n",
    "    publishers.append(publish)"
   ]
  },
  {
   "cell_type": "markdown",
   "metadata": {},
   "source": [
    "### Remove Publisher from title"
   ]
  },
  {
   "cell_type": "code",
   "execution_count": 307,
   "metadata": {},
   "outputs": [
    {
     "name": "stderr",
     "output_type": "stream",
     "text": [
      "100%|██████████| 999/999 [00:00<00:00, 103620.69it/s]"
     ]
    },
    {
     "name": "stdout",
     "output_type": "stream",
     "text": [
      "999\n"
     ]
    },
    {
     "name": "stderr",
     "output_type": "stream",
     "text": [
      "\n"
     ]
    }
   ],
   "source": [
    "non_publisher_titles = []\n",
    "for i in tqdm(range(len(titles))):\n",
    "    x = re.split(\"(\\||\\-|\\｜)\", titles[i])\n",
    "    length = len(x)\n",
    "#   取0到x-1的字再組起來\n",
    "    title = \"\"\n",
    "    if length == 1:\n",
    "        title = x[0]\n",
    "    else:\n",
    "        j = 0\n",
    "        #   -2 => 移除 ['｜', '-', '|'] 以及出版者\n",
    "        for j in range(length-2):\n",
    "            title = title + x[j]\n",
    "    non_publisher_titles.append(title)\n",
    "print(len(non_publisher_titles))"
   ]
  },
  {
   "cell_type": "code",
   "execution_count": 308,
   "metadata": {},
   "outputs": [
    {
     "data": {
      "text/html": [
       "<div>\n",
       "<style scoped>\n",
       "    .dataframe tbody tr th:only-of-type {\n",
       "        vertical-align: middle;\n",
       "    }\n",
       "\n",
       "    .dataframe tbody tr th {\n",
       "        vertical-align: top;\n",
       "    }\n",
       "\n",
       "    .dataframe thead th {\n",
       "        text-align: right;\n",
       "    }\n",
       "</style>\n",
       "<table border=\"1\" class=\"dataframe\">\n",
       "  <thead>\n",
       "    <tr style=\"text-align: right;\">\n",
       "      <th></th>\n",
       "      <th>titles</th>\n",
       "      <th>publishers</th>\n",
       "      <th>fb_shares</th>\n",
       "      <th>fb_likes</th>\n",
       "      <th>gplus_likes</th>\n",
       "      <th>pin_counts</th>\n",
       "      <th>linkedin_shares</th>\n",
       "      <th>reddit_shares</th>\n",
       "    </tr>\n",
       "  </thead>\n",
       "  <tbody>\n",
       "    <tr>\n",
       "      <th>535</th>\n",
       "      <td>【不敢回臺灣的護理師】臺灣護士薪水只有美國診所的一半，工作量卻是他們的十倍</td>\n",
       "      <td>BuzzOrange</td>\n",
       "      <td>41962</td>\n",
       "      <td>105</td>\n",
       "      <td>0</td>\n",
       "      <td>0</td>\n",
       "      <td>0</td>\n",
       "      <td>0</td>\n",
       "    </tr>\n",
       "    <tr>\n",
       "      <th>612</th>\n",
       "      <td>【每天都過著超載人生？】臉書前行銷總監、馬克的姊姊：世上沒完美平衡，每天「選 3」就好</td>\n",
       "      <td>VidaOrange</td>\n",
       "      <td>16526</td>\n",
       "      <td>39</td>\n",
       "      <td>0</td>\n",
       "      <td>0</td>\n",
       "      <td>0</td>\n",
       "      <td>0</td>\n",
       "    </tr>\n",
       "    <tr>\n",
       "      <th>17</th>\n",
       "      <td>一名社工揭露的街友故事：他們曾經也是老師、醫生、房仲，直到被社會放逐</td>\n",
       "      <td>BuzzOrange</td>\n",
       "      <td>16171</td>\n",
       "      <td>101</td>\n",
       "      <td>0</td>\n",
       "      <td>0</td>\n",
       "      <td>0</td>\n",
       "      <td>0</td>\n",
       "    </tr>\n",
       "    <tr>\n",
       "      <th>512</th>\n",
       "      <td>瑞典全國一個月不上班國家也沒倒！而國家並不會因為人民像工蟻不斷工作更有競爭力</td>\n",
       "      <td>BuzzOrange</td>\n",
       "      <td>12069</td>\n",
       "      <td>47</td>\n",
       "      <td>0</td>\n",
       "      <td>0</td>\n",
       "      <td>0</td>\n",
       "      <td>0</td>\n",
       "    </tr>\n",
       "    <tr>\n",
       "      <th>517</th>\n",
       "      <td>這個「通病」讓臺灣產業死去──本土遊戲 90 年代曾是亞洲第二，為何最後走向沒落？</td>\n",
       "      <td>BuzzOrange</td>\n",
       "      <td>8342</td>\n",
       "      <td>101</td>\n",
       "      <td>0</td>\n",
       "      <td>0</td>\n",
       "      <td>0</td>\n",
       "      <td>0</td>\n",
       "    </tr>\n",
       "    <tr>\n",
       "      <th>...</th>\n",
       "      <td>...</td>\n",
       "      <td>...</td>\n",
       "      <td>...</td>\n",
       "      <td>...</td>\n",
       "      <td>...</td>\n",
       "      <td>...</td>\n",
       "      <td>...</td>\n",
       "      <td>...</td>\n",
       "    </tr>\n",
       "    <tr>\n",
       "      <th>336</th>\n",
       "      <td>在現實世界拓展機器學習應用的三種方法</td>\n",
       "      <td>數位時代</td>\n",
       "      <td>0</td>\n",
       "      <td>0</td>\n",
       "      <td>0</td>\n",
       "      <td>0</td>\n",
       "      <td>0</td>\n",
       "      <td>0</td>\n",
       "    </tr>\n",
       "    <tr>\n",
       "      <th>337</th>\n",
       "      <td>華航宣佈主管減薪10％！因武漢肺炎疫情影響，鼓勵員工主動休假、共體時艱</td>\n",
       "      <td>數位時代</td>\n",
       "      <td>0</td>\n",
       "      <td>0</td>\n",
       "      <td>0</td>\n",
       "      <td>0</td>\n",
       "      <td>0</td>\n",
       "      <td>0</td>\n",
       "    </tr>\n",
       "    <tr>\n",
       "      <th>338</th>\n",
       "      <td>抗武漢肺炎，在家工作也不怕！6款超強大遠距辦公工具懶人包，快給老闆看</td>\n",
       "      <td>數位時代</td>\n",
       "      <td>0</td>\n",
       "      <td>0</td>\n",
       "      <td>0</td>\n",
       "      <td>0</td>\n",
       "      <td>0</td>\n",
       "      <td>0</td>\n",
       "    </tr>\n",
       "    <tr>\n",
       "      <th>341</th>\n",
       "      <td>鑽石公主號兩名乘客死亡！NHK快訊：政府官員承認，兩名80多歲確診本國乘客不治</td>\n",
       "      <td>風傳媒</td>\n",
       "      <td>0</td>\n",
       "      <td>0</td>\n",
       "      <td>0</td>\n",
       "      <td>0</td>\n",
       "      <td>0</td>\n",
       "      <td>0</td>\n",
       "    </tr>\n",
       "    <tr>\n",
       "      <th>997</th>\n",
       "      <td>〈5G頻譜競標〉二階段位置電信商能否順利協商 市場看法不一 | Anue鉅亨</td>\n",
       "      <td>臺股新聞</td>\n",
       "      <td>0</td>\n",
       "      <td>0</td>\n",
       "      <td>0</td>\n",
       "      <td>0</td>\n",
       "      <td>0</td>\n",
       "      <td>0</td>\n",
       "    </tr>\n",
       "  </tbody>\n",
       "</table>\n",
       "<p>890 rows × 8 columns</p>\n",
       "</div>"
      ],
      "text/plain": [
       "                                           titles  publishers  fb_shares  \\\n",
       "535        【不敢回臺灣的護理師】臺灣護士薪水只有美國診所的一半，工作量卻是他們的十倍   BuzzOrange      41962   \n",
       "612  【每天都過著超載人生？】臉書前行銷總監、馬克的姊姊：世上沒完美平衡，每天「選 3」就好   VidaOrange      16526   \n",
       "17            一名社工揭露的街友故事：他們曾經也是老師、醫生、房仲，直到被社會放逐   BuzzOrange      16171   \n",
       "512       瑞典全國一個月不上班國家也沒倒！而國家並不會因為人民像工蟻不斷工作更有競爭力   BuzzOrange      12069   \n",
       "517    這個「通病」讓臺灣產業死去──本土遊戲 90 年代曾是亞洲第二，為何最後走向沒落？   BuzzOrange       8342   \n",
       "..                                            ...         ...        ...   \n",
       "336                            在現實世界拓展機器學習應用的三種方法        數位時代          0   \n",
       "337           華航宣佈主管減薪10％！因武漢肺炎疫情影響，鼓勵員工主動休假、共體時艱        數位時代          0   \n",
       "338            抗武漢肺炎，在家工作也不怕！6款超強大遠距辦公工具懶人包，快給老闆看        數位時代          0   \n",
       "341       鑽石公主號兩名乘客死亡！NHK快訊：政府官員承認，兩名80多歲確診本國乘客不治         風傳媒          0   \n",
       "997       〈5G頻譜競標〉二階段位置電信商能否順利協商 市場看法不一 | Anue鉅亨         臺股新聞          0   \n",
       "\n",
       "     fb_likes  gplus_likes  pin_counts  linkedin_shares  reddit_shares  \n",
       "535       105            0           0                0              0  \n",
       "612        39            0           0                0              0  \n",
       "17        101            0           0                0              0  \n",
       "512        47            0           0                0              0  \n",
       "517       101            0           0                0              0  \n",
       "..        ...          ...         ...              ...            ...  \n",
       "336         0            0           0                0              0  \n",
       "337         0            0           0                0              0  \n",
       "338         0            0           0                0              0  \n",
       "341         0            0           0                0              0  \n",
       "997         0            0           0                0              0  \n",
       "\n",
       "[890 rows x 8 columns]"
      ]
     },
     "execution_count": 308,
     "metadata": {},
     "output_type": "execute_result"
    }
   ],
   "source": [
    "news_dict = {\n",
    "    \"titles\": non_publisher_titles,\n",
    "#     \"urls\": urls,\n",
    "    \"publishers\":publishers,\n",
    "    \"fb_shares\":fb_shares_arr,\n",
    "    \"fb_likes\": fb_likes_arr,\n",
    "    \"gplus_likes\":gplus_likes_arr,\n",
    "    \"pin_counts\":pin_counts_arr,\n",
    "    \"linkedin_shares\":linkedin_shares_arr,\n",
    "    \"reddit_shares\":reddit_shares_arr\n",
    "}\n",
    "df = pd.DataFrame(news_dict)\n",
    "\n",
    "#  Remove Pusblisher is empty\n",
    "df = df[df['publishers']!=\"\"]\n",
    "df.sort_values(by=['fb_shares'], inplace=True, ascending=False)\n",
    "df"
   ]
  },
  {
   "cell_type": "markdown",
   "metadata": {},
   "source": [
    "### 計算TFIDF詞頻\n",
    "1. 將所有需計算的組成字串\n",
    "2. jieba進行分詞\n",
    "3. 使用jieba進行tfidf計算"
   ]
  },
  {
   "cell_type": "code",
   "execution_count": 309,
   "metadata": {},
   "outputs": [
    {
     "name": "stderr",
     "output_type": "stream",
     "text": [
      "Building prefix dict from /Users/fan/Documents/Github/pycrawler-project/dict.txt.big ...\n",
      "Loading model from cache /var/folders/32/4nbdc94x4w71n8cppyr49lz00000gn/T/jieba.u90c238c6edb188e7c4dcfaeaef1126cb.cache\n",
      "Loading model cost 7.774 seconds.\n",
      "Prefix dict has been built successfully.\n"
     ]
    },
    {
     "data": {
      "text/plain": [
       "['投資',\n",
       " '趨勢',\n",
       " '未來',\n",
       " '疫情',\n",
       " 'Anue',\n",
       " '財訊',\n",
       " '武漢',\n",
       " '中國',\n",
       " '臺灣',\n",
       " '肺炎',\n",
       " '什麼',\n",
       " '員工',\n",
       " '觀點',\n",
       " '掌握',\n",
       " '工作',\n",
       " '職場',\n",
       " '企業',\n",
       " '...',\n",
       " '理財',\n",
       " '為何',\n",
       " '10',\n",
       " '商業',\n",
       " '美國',\n",
       " '衝擊',\n",
       " '財經',\n",
       " '影響',\n",
       " '怎麼',\n",
       " '經濟',\n",
       " '產業',\n",
       " '時間',\n",
       " '週刊',\n",
       " '成為',\n",
       " '關鍵',\n",
       " '老闆',\n",
       " '2020',\n",
       " '旅遊',\n",
       " '新冠',\n",
       " '如何',\n",
       " '不會',\n",
       " '問題']"
      ]
     },
     "execution_count": 309,
     "metadata": {},
     "output_type": "execute_result"
    }
   ],
   "source": [
    "from tqdm import tqdm\n",
    "import jieba\n",
    "import jieba.analyse\n",
    "jieba.set_dictionary('dict.txt.big')\n",
    "\n",
    "def caculate_TFIDF(datalist):\n",
    "    # 將所有需計算的組成字串\n",
    "    word_string = \"\"\n",
    "    for data in datalist:\n",
    "        word_string = word_string + \"，\" + data\n",
    "        \n",
    "    #  jieba進行分詞\n",
    "    cut_words = jieba.cut(word_string, cut_all=False)\n",
    "    words = list(cut_words)\n",
    "    \n",
    "   #使用jieba進行tfidf計算\n",
    "    #  tfidf = jieba.analyse.extract_tags(word_string, 10)\n",
    "    tfidf = jieba.analyse.extract_tags(word_string, topK=40, withWeight=False, allowPOS=())\n",
    "    return tfidf\n",
    "\n",
    "\n",
    "\n",
    "tfidf = caculate_TFIDF(df['titles'])\n",
    "tfidf"
   ]
  },
  {
   "cell_type": "code",
   "execution_count": 312,
   "metadata": {},
   "outputs": [
    {
     "name": "stdout",
     "output_type": "stream",
     "text": [
      "remove_stop_words:  ['回', '臺灣', '護理', '師', '臺灣', '護士', '薪水', '美國', '診所', '一半', '工作量', '卻是', '十倍', '每天', '過著', '超載', '人生', '臉書前', '行銷', '總監', '馬克', '姊姊', '世上', '完美', '平衡', '每天', '選', '好', '一名', '社工', '揭露', '街友', '故事', '曾經', '老師', '醫生', '房仲', '直到', '社會', '放逐', '瑞典', '全國', '一個月', '上班', '國家', '倒', '國家', '工蟻', '不斷', '工作', '競爭力', '通病', '臺灣', '產業', '死去', '本土', '遊戲', '90', '年代', '曾', '亞洲', '第二', '最後', '走向', '沒落', '年輕', '時多', '努力', '逼', '年輕人', '走向', '死亡', '錯誤', '神話', '臺灣', '一年', '青年', '自殺', '日本', '青年', '自殺', '率', '世界', '第一', '今天', '多賺', '幾小時', '盤點', '時間', '損益表', '奪回', '最', '寶貴', '時間', '心理學家', '職場', '觀察', '公司', '裡的', '種人', '最累', '這種', '點子', '美國', '商務', '顧問', '創意', '源源不絕', '人', '特質', '目前', '工作', '感到', '迷惘', '時', '應先問', '三個', '問題', '學', '經歷', '漂亮', '一定', '好', '推動', '公司', '成長', '人才', '擁有', '特質', '30', '歲', '迷惘', '人生哲學', '電影片', '陪', '度過', '灰濛濛', '迷惘', '期', '怎樣才能', '談到', '好', '薪水', '先', '出手', '一直', '討論', '錢', '學習', '運動', '總是', '半途而廢', '美國', '企管', '顧問', '拋棄', '錯誤', '自律', '養成', '卓越', '好', '習慣', '買', '新', '武器', '無法', '美', '軍事', '記者', '警告', '別成', '天', '幻想', '臺海', '開戰', '美國會', '迅速', '援助', '完', '後', '實行', '科學', '證實', '帶來', '幸福感', '12', '種行', '學新', '語言', '表達', '感謝', '螞蟻', '根本', '薪水', '小偷', '美國', '研究', '40%', '爬']\n"
     ]
    }
   ],
   "source": [
    "#移除Stop_words\n",
    "def remove_stop_words(file_name,seg_list):\n",
    "    with open(file_name,'r') as f:\n",
    "        stop_words = f.readlines()\n",
    "    stop_words = [stop_word.strip() for stop_word in stop_words]\n",
    "    new_list = []\n",
    "    for seg in seg_list:\n",
    "        if seg not in stop_words and seg.isspace()==False:\n",
    "            new_list.append(seg) #若在for loop裡用remove的話則會改變總長度\n",
    "    return new_list\n",
    "\n",
    "\n",
    "word_string = ''\n",
    "for data in df['titles']:\n",
    "    word_string = word_string + \"，\" + data\n",
    "\n",
    "#  jieba進行分詞\n",
    "cut_words = jieba.cut(word_string, cut_all=False)\n",
    "words = list(cut_words)\n",
    "\n",
    "# 移除空白字元\n",
    "for word in words:\n",
    "    if(word.isspace()):\n",
    "        words.remove(word)\n",
    "\n",
    "file_name = './stop_words_chinese.txt'\n",
    "seg_list = remove_stop_words(file_name,words)\n",
    "print('remove_stop_words: ',seg_list[1:200]) # 列出200個"
   ]
  },
  {
   "cell_type": "code",
   "execution_count": 313,
   "metadata": {},
   "outputs": [
    {
     "data": {
      "text/html": [
       "<div>\n",
       "<style scoped>\n",
       "    .dataframe tbody tr th:only-of-type {\n",
       "        vertical-align: middle;\n",
       "    }\n",
       "\n",
       "    .dataframe tbody tr th {\n",
       "        vertical-align: top;\n",
       "    }\n",
       "\n",
       "    .dataframe thead th {\n",
       "        text-align: right;\n",
       "    }\n",
       "</style>\n",
       "<table border=\"1\" class=\"dataframe\">\n",
       "  <thead>\n",
       "    <tr style=\"text-align: right;\">\n",
       "      <th></th>\n",
       "      <th>count</th>\n",
       "    </tr>\n",
       "    <tr>\n",
       "      <th>seg</th>\n",
       "      <th></th>\n",
       "    </tr>\n",
       "  </thead>\n",
       "  <tbody>\n",
       "    <tr>\n",
       "      <th>工作</th>\n",
       "      <td>83</td>\n",
       "    </tr>\n",
       "    <tr>\n",
       "      <th>投資</th>\n",
       "      <td>82</td>\n",
       "    </tr>\n",
       "    <tr>\n",
       "      <th>疫情</th>\n",
       "      <td>80</td>\n",
       "    </tr>\n",
       "    <tr>\n",
       "      <th>肺炎</th>\n",
       "      <td>62</td>\n",
       "    </tr>\n",
       "    <tr>\n",
       "      <th>趨勢</th>\n",
       "      <td>61</td>\n",
       "    </tr>\n",
       "  </tbody>\n",
       "</table>\n",
       "</div>"
      ],
      "text/plain": [
       "     count\n",
       "seg       \n",
       "工作      83\n",
       "投資      82\n",
       "疫情      80\n",
       "肺炎      62\n",
       "趨勢      61"
      ]
     },
     "execution_count": 313,
     "metadata": {},
     "output_type": "execute_result"
    }
   ],
   "source": [
    "# 統計詞頻\n",
    "import pandas as pd\n",
    "def count_segment_freq(seg_list):\n",
    "    seg_df = pd.DataFrame(seg_list,columns=['seg'])\n",
    "    seg_df['count'] = 1\n",
    "    sef_freq = seg_df.groupby('seg')['count'].sum().sort_values(ascending=False)\n",
    "    sef_freq = pd.DataFrame(sef_freq)\n",
    "    return sef_freq\n",
    "\n",
    "sef_freq = count_segment_freq(seg_list)\n",
    "sef_freq.head()"
   ]
  },
  {
   "cell_type": "code",
   "execution_count": 314,
   "metadata": {},
   "outputs": [
    {
     "data": {
      "image/png": "[encoded data removed]",
      "text/plain": [
       "<Figure size 432x288 with 1 Axes>"
      ]
     },
     "metadata": {
      "needs_background": "light"
     },
     "output_type": "display_data"
    }
   ],
   "source": [
    "wc = WordCloud(background_color='white', font_path = './NotoSansCJKtc-Regular.otf')\n",
    "sef_freq_dict = sef_freq.to_dict()\n",
    "# print(sef_freq_dict)\n",
    "wc.generate_from_frequencies(sef_freq_dict['count'])\n",
    "import matplotlib.pyplot as plt\n",
    "plt.imshow(wc)\n",
    "plt.axis(\"off\")\n",
    "plt.show()"
   ]
  },
  {
   "cell_type": "code",
   "execution_count": null,
   "metadata": {},
   "outputs": [],
   "source": []
  }
 ],
 "metadata": {
  "kernelspec": {
   "display_name": "env_jupyter",
   "language": "python",
   "name": "env_jupyter"
  },
  "language_info": {
   "codemirror_mode": {
    "name": "ipython",
    "version": 3
   },
   "file_extension": ".py",
   "mimetype": "text/x-python",
   "name": "python",
   "nbconvert_exporter": "python",
   "pygments_lexer": "ipython3",
   "version": "3.7.5"
  }
 },
 "nbformat": 4,
 "nbformat_minor": 2
}
