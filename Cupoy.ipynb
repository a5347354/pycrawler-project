{
 "cells": [
  {
   "cell_type": "code",
   "execution_count": 55,
   "metadata": {},
   "outputs": [],
   "source": [
    "import requests\n",
    "import time\n",
    "from bs4 import BeautifulSoup\n",
    "import json\n",
    "from tqdm import tqdm\n",
    "import pandas as pd"
   ]
  },
  {
   "cell_type": "code",
   "execution_count": 57,
   "metadata": {},
   "outputs": [],
   "source": [
    "page = 10\n",
    "url = \"https://www.cupoy.com/MixNewsMongoAction.do?op=getTopMixNewsByBucketGroup&groupid=business_tw&startNewsID=1&len=\"+str(page)  #財經新聞\n",
    "resp = requests.get(url)\n",
    "resp.encoding = 'utf-8'\n",
    "# print(resp.text)  # 如有需要，列印出網頁原始碼"
   ]
  },
  {
   "cell_type": "code",
   "execution_count": 58,
   "metadata": {},
   "outputs": [
    {
     "name": "stderr",
     "output_type": "stream",
     "text": [
      "100%|██████████| 10/10 [00:00<00:00, 2702.52it/s]"
     ]
    },
    {
     "name": "stdout",
     "output_type": "stream",
     "text": [
      "[' - Meet 創業小聚', '辭去七年工作，最後一敗塗地的創業夢，卻成為我的人生轉捩點 ｜ 詹宇／讀者投書 ｜ 換日線 Crossing', '【打死我也發不出口罩】3000 萬日供應量 vs. 28 億的日需求！中國口罩廠員工「日做 16 小時，壓力大到哭」 | BuzzOrange', '併購不受武漢肺炎疫情打亂，貿聯-KY佈局東南亞砸14億元併新加坡商Speedy｜數位時代', '回答不出這 7 個問題，不適合擔任高階主管！找經營管理人才，CEO 必問的面試題 | 經理人', '受武漢肺炎疫情衝擊，東南亞各國紛下修2020經濟成長目標 - The News Lens 關鍵評論網', '迪卡儂就是他家的！尹衍樑盟友、全球最神祕的家族企業，如何累積1兆資產？-風傳媒', '大砍 4400 位員工、CEO 也換人！歐洲市值最高的科技公司 SAP 怎麼推轉型？ | 經理人', '部屬教不會、講不聽，怎麼辦？3步驟揭開員工心理，治標又治本 | 經理人', '微軟新創加速器供新創團隊免費使用GitHub Enterprise | iThome']\n"
     ]
    },
    {
     "name": "stderr",
     "output_type": "stream",
     "text": [
      "\n"
     ]
    }
   ],
   "source": [
    "j = json.loads(resp.text)\n",
    "items = j['items']\n",
    "titles = []\n",
    "urls = []\n",
    "for i in tqdm(range(len(items))):\n",
    "    titles.append(items[i]['title']) \n",
    "    urls.append(items[i]['linkurl'])\n",
    "print(titles)"
   ]
  },
  {
   "cell_type": "code",
   "execution_count": 59,
   "metadata": {},
   "outputs": [
    {
     "data": {
      "text/html": [
       "<div>\n",
       "<style scoped>\n",
       "    .dataframe tbody tr th:only-of-type {\n",
       "        vertical-align: middle;\n",
       "    }\n",
       "\n",
       "    .dataframe tbody tr th {\n",
       "        vertical-align: top;\n",
       "    }\n",
       "\n",
       "    .dataframe thead th {\n",
       "        text-align: right;\n",
       "    }\n",
       "</style>\n",
       "<table border=\"1\" class=\"dataframe\">\n",
       "  <thead>\n",
       "    <tr style=\"text-align: right;\">\n",
       "      <th></th>\n",
       "      <th>titles</th>\n",
       "      <th>urls</th>\n",
       "    </tr>\n",
       "  </thead>\n",
       "  <tbody>\n",
       "    <tr>\n",
       "      <th>0</th>\n",
       "      <td>- Meet 創業小聚</td>\n",
       "      <td>https://meet.bnext.com.tw/articles/view/46092</td>\n",
       "    </tr>\n",
       "    <tr>\n",
       "      <th>1</th>\n",
       "      <td>辭去七年工作，最後一敗塗地的創業夢，卻成為我的人生轉捩點 ｜ 詹宇／讀者投書 ｜ 換日線 C...</td>\n",
       "      <td>https://crossing.cw.com.tw/article/12989?utm_s...</td>\n",
       "    </tr>\n",
       "    <tr>\n",
       "      <th>2</th>\n",
       "      <td>【打死我也發不出口罩】3000 萬日供應量 vs. 28 億的日需求！中國口罩廠員工「日做 ...</td>\n",
       "      <td>https://buzzorange.com/2020/02/17/china-mask-f...</td>\n",
       "    </tr>\n",
       "    <tr>\n",
       "      <th>3</th>\n",
       "      <td>併購不受武漢肺炎疫情打亂，貿聯-KY佈局東南亞砸14億元併新加坡商Speedy｜數位時代</td>\n",
       "      <td>https://www.bnext.com.tw/article/56604/bizlink...</td>\n",
       "    </tr>\n",
       "    <tr>\n",
       "      <th>4</th>\n",
       "      <td>回答不出這 7 個問題，不適合擔任高階主管！找經營管理人才，CEO 必問的面試題 | 經理人</td>\n",
       "      <td>https://www.managertoday.com.tw/articles/view/...</td>\n",
       "    </tr>\n",
       "    <tr>\n",
       "      <th>5</th>\n",
       "      <td>受武漢肺炎疫情衝擊，東南亞各國紛下修2020經濟成長目標 - The News Lens 關...</td>\n",
       "      <td>http://www.thenewslens.com/article/131384</td>\n",
       "    </tr>\n",
       "    <tr>\n",
       "      <th>6</th>\n",
       "      <td>迪卡儂就是他家的！尹衍樑盟友、全球最神祕的家族企業，如何累積1兆資產？-風傳媒</td>\n",
       "      <td>https://www.storm.mg/article/1792588</td>\n",
       "    </tr>\n",
       "    <tr>\n",
       "      <th>7</th>\n",
       "      <td>大砍 4400 位員工、CEO 也換人！歐洲市值最高的科技公司 SAP 怎麼推轉型？ | 經理人</td>\n",
       "      <td>https://www.managertoday.com.tw/articles/view/...</td>\n",
       "    </tr>\n",
       "    <tr>\n",
       "      <th>8</th>\n",
       "      <td>部屬教不會、講不聽，怎麼辦？3步驟揭開員工心理，治標又治本 | 經理人</td>\n",
       "      <td>https://www.managertoday.com.tw/articles/view/...</td>\n",
       "    </tr>\n",
       "    <tr>\n",
       "      <th>9</th>\n",
       "      <td>微軟新創加速器供新創團隊免費使用GitHub Enterprise | iThome</td>\n",
       "      <td>https://www.ithome.com.tw/news/135861</td>\n",
       "    </tr>\n",
       "  </tbody>\n",
       "</table>\n",
       "</div>"
      ],
      "text/plain": [
       "                                              titles  \\\n",
       "0                                        - Meet 創業小聚   \n",
       "1  辭去七年工作，最後一敗塗地的創業夢，卻成為我的人生轉捩點 ｜ 詹宇／讀者投書 ｜ 換日線 C...   \n",
       "2  【打死我也發不出口罩】3000 萬日供應量 vs. 28 億的日需求！中國口罩廠員工「日做 ...   \n",
       "3       併購不受武漢肺炎疫情打亂，貿聯-KY佈局東南亞砸14億元併新加坡商Speedy｜數位時代   \n",
       "4     回答不出這 7 個問題，不適合擔任高階主管！找經營管理人才，CEO 必問的面試題 | 經理人   \n",
       "5  受武漢肺炎疫情衝擊，東南亞各國紛下修2020經濟成長目標 - The News Lens 關...   \n",
       "6            迪卡儂就是他家的！尹衍樑盟友、全球最神祕的家族企業，如何累積1兆資產？-風傳媒   \n",
       "7   大砍 4400 位員工、CEO 也換人！歐洲市值最高的科技公司 SAP 怎麼推轉型？ | 經理人   \n",
       "8                部屬教不會、講不聽，怎麼辦？3步驟揭開員工心理，治標又治本 | 經理人   \n",
       "9         微軟新創加速器供新創團隊免費使用GitHub Enterprise | iThome   \n",
       "\n",
       "                                                urls  \n",
       "0      https://meet.bnext.com.tw/articles/view/46092  \n",
       "1  https://crossing.cw.com.tw/article/12989?utm_s...  \n",
       "2  https://buzzorange.com/2020/02/17/china-mask-f...  \n",
       "3  https://www.bnext.com.tw/article/56604/bizlink...  \n",
       "4  https://www.managertoday.com.tw/articles/view/...  \n",
       "5          http://www.thenewslens.com/article/131384  \n",
       "6               https://www.storm.mg/article/1792588  \n",
       "7  https://www.managertoday.com.tw/articles/view/...  \n",
       "8  https://www.managertoday.com.tw/articles/view/...  \n",
       "9              https://www.ithome.com.tw/news/135861  "
      ]
     },
     "execution_count": 59,
     "metadata": {},
     "output_type": "execute_result"
    }
   ],
   "source": [
    "ironmen_dict = {\n",
    "                \"titles\": titles,\n",
    "                \"urls\": urls\n",
    "}\n",
    "\n",
    "ironmen_df = pd.DataFrame(ironmen_dict)\n",
    "ironmen_df"
   ]
  },
  {
   "cell_type": "code",
   "execution_count": null,
   "metadata": {},
   "outputs": [],
   "source": []
  }
 ],
 "metadata": {
  "kernelspec": {
   "display_name": "env_jupyter",
   "language": "python",
   "name": "env_jupyter"
  },
  "language_info": {
   "codemirror_mode": {
    "name": "ipython",
    "version": 3
   },
   "file_extension": ".py",
   "mimetype": "text/x-python",
   "name": "python",
   "nbconvert_exporter": "python",
   "pygments_lexer": "ipython3",
   "version": "3.7.5"
  }
 },
 "nbformat": 4,
 "nbformat_minor": 2
}
